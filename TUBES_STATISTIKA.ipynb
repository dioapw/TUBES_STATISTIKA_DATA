{
  "nbformat": 4,
  "nbformat_minor": 0,
  "metadata": {
    "colab": {
      "name": "TUBES_STATISTIKA.ipynb",
      "provenance": [],
      "collapsed_sections": [],
      "include_colab_link": true
    },
    "kernelspec": {
      "name": "ir",
      "display_name": "R"
    }
  },
  "cells": [
    {
      "cell_type": "markdown",
      "metadata": {
        "id": "view-in-github",
        "colab_type": "text"
      },
      "source": [
        "<a href=\"https://colab.research.google.com/github/dioapw/TUBES_STATISTIKA_DATA/blob/main/TUBES_STATISTIKA.ipynb\" target=\"_parent\"><img src=\"https://colab.research.google.com/assets/colab-badge.svg\" alt=\"Open In Colab\"/></a>"
      ]
    },
    {
      "cell_type": "markdown",
      "metadata": {
        "id": "IFiw0elXLOqa"
      },
      "source": [
        "# **TUBES STATISTIKA**"
      ]
    },
    {
      "cell_type": "markdown",
      "metadata": {
        "id": "SVdtVUIGLW8J"
      },
      "source": [
        "Deskripsi masalah tentang data : (https://www.kaggle.com/sakshigoyal7/credit-card-customers)\r\n",
        "\r\n",
        "Manager suatu bank ingin mendapat gambaran tentang karakteristik pemegang kartu kredit yang mereka terbitkan, berdasarkan data berisi fitur-fitur pemegang kartu kredit (kolom A-U) dan peluang pemegang kartu kredit berpindah ke bank lain (kolom V dan W). \r\n",
        "\r\n",
        "Sekarang, kumpulan data ini terdiri dari 10.000 pelanggan yang menyebutkan usia, gaji, status_kawinan, batas kartu kredit, kategori kartu kredit, dll. Ada hampir 18 fitur.\r\n",
        "\r\n",
        "Lakukan eksplorasi menggunakan metode yang sudah dipelajari untuk mendapatkan informasi yang akan anda presentasikan kepada manager bank. \r\n"
      ]
    },
    {
      "cell_type": "markdown",
      "metadata": {
        "id": "NAUyTBpCLgmd"
      },
      "source": [
        "Anggota Kelompok:\r\n",
        "*   Dio Aditya Putra Wardhono (1301194290)\r\n",
        "*   Yusril Ramadhan (1301194075)\r\n",
        "*   Rafly Ahmad Yanuar (1301194119)\r\n",
        "*   List item\r\n",
        "\r\n",
        "\r\n",
        "\r\n"
      ]
    },
    {
      "cell_type": "markdown",
      "metadata": {
        "id": "dH4KXAJuLtT_"
      },
      "source": [
        "## **Memuat File CSV**"
      ]
    },
    {
      "cell_type": "markdown",
      "metadata": {
        "id": "KMnZzN0GMpsx"
      },
      "source": [
        "Import Library"
      ]
    },
    {
      "cell_type": "code",
      "metadata": {
        "id": "7fZ4kF6jJ7ur"
      },
      "source": [
        "library (readr)"
      ],
      "execution_count": null,
      "outputs": []
    },
    {
      "cell_type": "markdown",
      "metadata": {
        "id": "BihfcTxmM20H"
      },
      "source": [
        "Muat file CSV dari GitHub repository"
      ]
    },
    {
      "cell_type": "code",
      "metadata": {
        "id": "uPXxl8NPJ9Xa"
      },
      "source": [
        "dataset_urlfile =\"https://raw.githubusercontent.com/dioapw/TUBES_STATISTIKA_DATA/main/BankChurners.csv\""
      ],
      "execution_count": null,
      "outputs": []
    },
    {
      "cell_type": "markdown",
      "metadata": {
        "id": "bJXDM7lqNBwB"
      },
      "source": [
        "Muat file CSV ke variabel \"bank_data\""
      ]
    },
    {
      "cell_type": "code",
      "metadata": {
        "id": "XN1iw7r9uady"
      },
      "source": [
        "bank_data <- read.csv(url(dataset_urlfile))"
      ],
      "execution_count": null,
      "outputs": []
    },
    {
      "cell_type": "markdown",
      "metadata": {
        "id": "Jbxrg11YNMaq"
      },
      "source": [
        "## **Penjelasan Tentang Dataset**"
      ]
    },
    {
      "cell_type": "markdown",
      "metadata": {
        "id": "FX6NQfDMPT3C"
      },
      "source": [
        "*Sebelum kita melakukan eksplorasi dari dataset ini serta menganalisisnya, kita akan mencari tahu lebih dalam mengenai data-data yang ada di dataset ini.*\r\n",
        "\r\n",
        "\r\n",
        "\r\n"
      ]
    },
    {
      "cell_type": "markdown",
      "metadata": {
        "id": "Wo5zFVICQHa7"
      },
      "source": [
        "**1. Menampilkan jumlah kolom dalam dataset**\r\n",
        "\r\n",
        "\r\n"
      ]
    },
    {
      "cell_type": "markdown",
      "metadata": {
        "id": "sl9UAHEKRDky"
      },
      "source": [
        "*Pertama, kita akan melihat berapa jumlah kolom dalam dataset ini.*"
      ]
    },
    {
      "cell_type": "code",
      "metadata": {
        "colab": {
          "base_uri": "https://localhost:8080/",
          "height": 34
        },
        "id": "dguFl31yQSud",
        "outputId": "19afb54b-3a40-4eb4-8254-e6feb2c80fa4"
      },
      "source": [
        "ncol(bank_data)"
      ],
      "execution_count": null,
      "outputs": [
        {
          "output_type": "display_data",
          "data": {
            "text/plain": [
              "[1] 23"
            ],
            "text/latex": "23",
            "text/markdown": "23",
            "text/html": [
              "23"
            ]
          },
          "metadata": {
            "tags": []
          }
        }
      ]
    },
    {
      "cell_type": "markdown",
      "metadata": {
        "id": "qIBKBm-SQeC1"
      },
      "source": [
        "**2. Menampilkan jumlah baris dalam dataset**"
      ]
    },
    {
      "cell_type": "markdown",
      "metadata": {
        "id": "TI95tzCCRP7A"
      },
      "source": [
        "*Kedua, kita akan melihat berapa jumlah baris yang ada di dataset ini.*"
      ]
    },
    {
      "cell_type": "code",
      "metadata": {
        "id": "5Qk6xFmxQbB3",
        "colab": {
          "base_uri": "https://localhost:8080/",
          "height": 34
        },
        "outputId": "d92d1ee9-8f8c-444e-e8aa-9334f0c66b06"
      },
      "source": [
        "nrow(bank_data)"
      ],
      "execution_count": 11,
      "outputs": [
        {
          "output_type": "display_data",
          "data": {
            "text/plain": [
              "[1] 10127"
            ],
            "text/latex": "10127",
            "text/markdown": "10127",
            "text/html": [
              "10127"
            ]
          },
          "metadata": {
            "tags": []
          }
        }
      ]
    },
    {
      "cell_type": "markdown",
      "metadata": {
        "id": "FceGFEOeP5Db"
      },
      "source": [
        "**3. Daftar nama variabel dalam dataset**"
      ]
    },
    {
      "cell_type": "markdown",
      "metadata": {
        "id": "nbPoXGf9RgBO"
      },
      "source": [
        "*Ketiga, kita akan mencari tahu nama-nama variabel yang ada di dataset ini.*"
      ]
    },
    {
      "cell_type": "code",
      "metadata": {
        "id": "dwHqKs7dP-Qq",
        "colab": {
          "base_uri": "https://localhost:8080/",
          "height": 84
        },
        "outputId": "4fe9dd00-2151-4491-9339-1c321c48440a"
      },
      "source": [
        "names(bank_data)"
      ],
      "execution_count": 12,
      "outputs": [
        {
          "output_type": "display_data",
          "data": {
            "text/plain": [
              " [1] \"CLIENTNUM\"                                                                                                                         \n",
              " [2] \"Attrition_Flag\"                                                                                                                    \n",
              " [3] \"Customer_Age\"                                                                                                                      \n",
              " [4] \"Gender\"                                                                                                                            \n",
              " [5] \"Dependent_count\"                                                                                                                   \n",
              " [6] \"Education_Level\"                                                                                                                   \n",
              " [7] \"Marital_Status\"                                                                                                                    \n",
              " [8] \"Income_Category\"                                                                                                                   \n",
              " [9] \"Card_Category\"                                                                                                                     \n",
              "[10] \"Months_on_book\"                                                                                                                    \n",
              "[11] \"Total_Relationship_Count\"                                                                                                          \n",
              "[12] \"Months_Inactive_12_mon\"                                                                                                            \n",
              "[13] \"Contacts_Count_12_mon\"                                                                                                             \n",
              "[14] \"Credit_Limit\"                                                                                                                      \n",
              "[15] \"Total_Revolving_Bal\"                                                                                                               \n",
              "[16] \"Avg_Open_To_Buy\"                                                                                                                   \n",
              "[17] \"Total_Amt_Chng_Q4_Q1\"                                                                                                              \n",
              "[18] \"Total_Trans_Amt\"                                                                                                                   \n",
              "[19] \"Total_Trans_Ct\"                                                                                                                    \n",
              "[20] \"Total_Ct_Chng_Q4_Q1\"                                                                                                               \n",
              "[21] \"Avg_Utilization_Ratio\"                                                                                                             \n",
              "[22] \"Naive_Bayes_Classifier_Attrition_Flag_Card_Category_Contacts_Count_12_mon_Dependent_count_Education_Level_Months_Inactive_12_mon_1\"\n",
              "[23] \"Naive_Bayes_Classifier_Attrition_Flag_Card_Category_Contacts_Count_12_mon_Dependent_count_Education_Level_Months_Inactive_12_mon_2\""
            ],
            "text/latex": "\\begin{enumerate*}\n\\item 'CLIENTNUM'\n\\item 'Attrition\\_Flag'\n\\item 'Customer\\_Age'\n\\item 'Gender'\n\\item 'Dependent\\_count'\n\\item 'Education\\_Level'\n\\item 'Marital\\_Status'\n\\item 'Income\\_Category'\n\\item 'Card\\_Category'\n\\item 'Months\\_on\\_book'\n\\item 'Total\\_Relationship\\_Count'\n\\item 'Months\\_Inactive\\_12\\_mon'\n\\item 'Contacts\\_Count\\_12\\_mon'\n\\item 'Credit\\_Limit'\n\\item 'Total\\_Revolving\\_Bal'\n\\item 'Avg\\_Open\\_To\\_Buy'\n\\item 'Total\\_Amt\\_Chng\\_Q4\\_Q1'\n\\item 'Total\\_Trans\\_Amt'\n\\item 'Total\\_Trans\\_Ct'\n\\item 'Total\\_Ct\\_Chng\\_Q4\\_Q1'\n\\item 'Avg\\_Utilization\\_Ratio'\n\\item 'Naive\\_Bayes\\_Classifier\\_Attrition\\_Flag\\_Card\\_Category\\_Contacts\\_Count\\_12\\_mon\\_Dependent\\_count\\_Education\\_Level\\_Months\\_Inactive\\_12\\_mon\\_1'\n\\item 'Naive\\_Bayes\\_Classifier\\_Attrition\\_Flag\\_Card\\_Category\\_Contacts\\_Count\\_12\\_mon\\_Dependent\\_count\\_Education\\_Level\\_Months\\_Inactive\\_12\\_mon\\_2'\n\\end{enumerate*}\n",
            "text/markdown": "1. 'CLIENTNUM'\n2. 'Attrition_Flag'\n3. 'Customer_Age'\n4. 'Gender'\n5. 'Dependent_count'\n6. 'Education_Level'\n7. 'Marital_Status'\n8. 'Income_Category'\n9. 'Card_Category'\n10. 'Months_on_book'\n11. 'Total_Relationship_Count'\n12. 'Months_Inactive_12_mon'\n13. 'Contacts_Count_12_mon'\n14. 'Credit_Limit'\n15. 'Total_Revolving_Bal'\n16. 'Avg_Open_To_Buy'\n17. 'Total_Amt_Chng_Q4_Q1'\n18. 'Total_Trans_Amt'\n19. 'Total_Trans_Ct'\n20. 'Total_Ct_Chng_Q4_Q1'\n21. 'Avg_Utilization_Ratio'\n22. 'Naive_Bayes_Classifier_Attrition_Flag_Card_Category_Contacts_Count_12_mon_Dependent_count_Education_Level_Months_Inactive_12_mon_1'\n23. 'Naive_Bayes_Classifier_Attrition_Flag_Card_Category_Contacts_Count_12_mon_Dependent_count_Education_Level_Months_Inactive_12_mon_2'\n\n\n",
            "text/html": [
              "<style>\n",
              ".list-inline {list-style: none; margin:0; padding: 0}\n",
              ".list-inline>li {display: inline-block}\n",
              ".list-inline>li:not(:last-child)::after {content: \"\\00b7\"; padding: 0 .5ex}\n",
              "</style>\n",
              "<ol class=list-inline><li>'CLIENTNUM'</li><li>'Attrition_Flag'</li><li>'Customer_Age'</li><li>'Gender'</li><li>'Dependent_count'</li><li>'Education_Level'</li><li>'Marital_Status'</li><li>'Income_Category'</li><li>'Card_Category'</li><li>'Months_on_book'</li><li>'Total_Relationship_Count'</li><li>'Months_Inactive_12_mon'</li><li>'Contacts_Count_12_mon'</li><li>'Credit_Limit'</li><li>'Total_Revolving_Bal'</li><li>'Avg_Open_To_Buy'</li><li>'Total_Amt_Chng_Q4_Q1'</li><li>'Total_Trans_Amt'</li><li>'Total_Trans_Ct'</li><li>'Total_Ct_Chng_Q4_Q1'</li><li>'Avg_Utilization_Ratio'</li><li>'Naive_Bayes_Classifier_Attrition_Flag_Card_Category_Contacts_Count_12_mon_Dependent_count_Education_Level_Months_Inactive_12_mon_1'</li><li>'Naive_Bayes_Classifier_Attrition_Flag_Card_Category_Contacts_Count_12_mon_Dependent_count_Education_Level_Months_Inactive_12_mon_2'</li></ol>\n"
            ]
          },
          "metadata": {
            "tags": []
          }
        }
      ]
    },
    {
      "cell_type": "markdown",
      "metadata": {
        "id": "s2La0NFxQupn"
      },
      "source": [
        "**4. Menampilkan struktur dataset**"
      ]
    },
    {
      "cell_type": "markdown",
      "metadata": {
        "id": "EU9QWFHyR5_b"
      },
      "source": [
        "*Keempat, kita akan mencari tahu bagaimana struktur data dalam dataset ini.*"
      ]
    },
    {
      "cell_type": "code",
      "metadata": {
        "id": "Eyx4I7WqQyF7",
        "colab": {
          "base_uri": "https://localhost:8080/"
        },
        "outputId": "7c3bb443-2698-40a1-dfc3-22c84c077dfe"
      },
      "source": [
        "str(bank_data)"
      ],
      "execution_count": 13,
      "outputs": [
        {
          "output_type": "stream",
          "text": [
            "'data.frame':\t10127 obs. of  23 variables:\n",
            " $ CLIENTNUM                                                                                                                         : int  768805383 818770008 713982108 769911858 709106358 713061558 810347208 818906208 710930508 719661558 ...\n",
            " $ Attrition_Flag                                                                                                                    : chr  \"Existing Customer\" \"Existing Customer\" \"Existing Customer\" \"Existing Customer\" ...\n",
            " $ Customer_Age                                                                                                                      : int  45 49 51 40 40 44 51 32 37 48 ...\n",
            " $ Gender                                                                                                                            : chr  \"M\" \"F\" \"M\" \"F\" ...\n",
            " $ Dependent_count                                                                                                                   : int  3 5 3 4 3 2 4 0 3 2 ...\n",
            " $ Education_Level                                                                                                                   : chr  \"High School\" \"Graduate\" \"Graduate\" \"High School\" ...\n",
            " $ Marital_Status                                                                                                                    : chr  \"Married\" \"Single\" \"Married\" \"Unknown\" ...\n",
            " $ Income_Category                                                                                                                   : chr  \"$60K - $80K\" \"Less than $40K\" \"$80K - $120K\" \"Less than $40K\" ...\n",
            " $ Card_Category                                                                                                                     : chr  \"Blue\" \"Blue\" \"Blue\" \"Blue\" ...\n",
            " $ Months_on_book                                                                                                                    : int  39 44 36 34 21 36 46 27 36 36 ...\n",
            " $ Total_Relationship_Count                                                                                                          : int  5 6 4 3 5 3 6 2 5 6 ...\n",
            " $ Months_Inactive_12_mon                                                                                                            : int  1 1 1 4 1 1 1 2 2 3 ...\n",
            " $ Contacts_Count_12_mon                                                                                                             : int  3 2 0 1 0 2 3 2 0 3 ...\n",
            " $ Credit_Limit                                                                                                                      : num  12691 8256 3418 3313 4716 ...\n",
            " $ Total_Revolving_Bal                                                                                                               : int  777 864 0 2517 0 1247 2264 1396 2517 1677 ...\n",
            " $ Avg_Open_To_Buy                                                                                                                   : num  11914 7392 3418 796 4716 ...\n",
            " $ Total_Amt_Chng_Q4_Q1                                                                                                              : num  1.33 1.54 2.59 1.41 2.17 ...\n",
            " $ Total_Trans_Amt                                                                                                                   : int  1144 1291 1887 1171 816 1088 1330 1538 1350 1441 ...\n",
            " $ Total_Trans_Ct                                                                                                                    : int  42 33 20 20 28 24 31 36 24 32 ...\n",
            " $ Total_Ct_Chng_Q4_Q1                                                                                                               : num  1.62 3.71 2.33 2.33 2.5 ...\n",
            " $ Avg_Utilization_Ratio                                                                                                             : num  0.061 0.105 0 0.76 0 0.311 0.066 0.048 0.113 0.144 ...\n",
            " $ Naive_Bayes_Classifier_Attrition_Flag_Card_Category_Contacts_Count_12_mon_Dependent_count_Education_Level_Months_Inactive_12_mon_1: num  9.34e-05 5.69e-05 2.11e-05 1.34e-04 2.17e-05 ...\n",
            " $ Naive_Bayes_Classifier_Attrition_Flag_Card_Category_Contacts_Count_12_mon_Dependent_count_Education_Level_Months_Inactive_12_mon_2: num  1 1 1 1 1 ...\n"
          ],
          "name": "stdout"
        }
      ]
    },
    {
      "cell_type": "markdown",
      "metadata": {
        "id": "n9DM-3rAN3Q2"
      },
      "source": [
        "Menampilkan 8 baris pertama dari dataset"
      ]
    },
    {
      "cell_type": "code",
      "metadata": {
        "id": "LVlJhB0mu1yK"
      },
      "source": [
        "head(bank_data,8)"
      ],
      "execution_count": null,
      "outputs": []
    },
    {
      "cell_type": "markdown",
      "metadata": {
        "id": "ODw2ShC7LJ8Y"
      },
      "source": [
        "Menampilkan 8 baris terakhir dari dataset\r\n",
        "\r\n"
      ]
    },
    {
      "cell_type": "code",
      "metadata": {
        "id": "jNg3SdBEOf76"
      },
      "source": [
        "tail(bank_data,8)"
      ],
      "execution_count": null,
      "outputs": []
    },
    {
      "cell_type": "markdown",
      "metadata": {
        "id": "NAAXp4brRaxj"
      },
      "source": [
        "Menampilkan jumlah data yang hilang"
      ]
    },
    {
      "cell_type": "code",
      "metadata": {
        "id": "xRvZv0WNRQv4"
      },
      "source": [
        "colSums(is.na(bank_data))"
      ],
      "execution_count": null,
      "outputs": []
    },
    {
      "cell_type": "markdown",
      "metadata": {
        "id": "NGJ9fCdjM7NF"
      },
      "source": [
        "\r\n",
        "*Kita bisa lihat bahwa tidak ada data yang hilang di dataset*\r\n",
        "\r\n",
        "---\r\n",
        "\r\n"
      ]
    },
    {
      "cell_type": "markdown",
      "metadata": {
        "id": "UY_O6118Rwq4"
      },
      "source": [
        "Hitung deskripsi statistik"
      ]
    },
    {
      "cell_type": "code",
      "metadata": {
        "id": "DIxeDZNcR5sG"
      },
      "source": [
        "summary(bank_data)"
      ],
      "execution_count": null,
      "outputs": []
    },
    {
      "cell_type": "markdown",
      "metadata": {
        "id": "tMsQXpc8SXOG"
      },
      "source": [
        "Penjelasan:"
      ]
    }
  ]
}