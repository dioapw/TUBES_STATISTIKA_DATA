{
  "nbformat": 4,
  "nbformat_minor": 0,
  "metadata": {
    "colab": {
      "name": "TUBES_STATISTIKA.ipynb",
      "provenance": [],
      "collapsed_sections": [],
      "include_colab_link": true
    },
    "kernelspec": {
      "name": "ir",
      "display_name": "R"
    }
  },
  "cells": [
    {
      "cell_type": "markdown",
      "metadata": {
        "id": "view-in-github",
        "colab_type": "text"
      },
      "source": [
        "<a href=\"https://colab.research.google.com/github/dioapw/TUBES_STATISTIKA_DATA/blob/main/TUBES_STATISTIKA.ipynb\" target=\"_parent\"><img src=\"https://colab.research.google.com/assets/colab-badge.svg\" alt=\"Open In Colab\"/></a>"
      ]
    },
    {
      "cell_type": "markdown",
      "metadata": {
        "id": "IFiw0elXLOqa"
      },
      "source": [
        "# **TUBES STATISTIKA**"
      ]
    },
    {
      "cell_type": "markdown",
      "metadata": {
        "id": "SVdtVUIGLW8J"
      },
      "source": [
        "Deskripsi masalah tentang data : (https://www.kaggle.com/sakshigoyal7/credit-card-customers)\r\n",
        "\r\n",
        "Manager suatu bank ingin mendapat gambaran tentang karakteristik pemegang kartu kredit yang mereka terbitkan, berdasarkan data berisi fitur-fitur pemegang kartu kredit (kolom A-U) dan peluang pemegang kartu kredit berpindah ke bank lain (kolom V dan W). \r\n",
        "\r\n",
        "Sekarang, kumpulan data ini terdiri dari 10.000 pelanggan yang menyebutkan usia, gaji, status_kawinan, batas kartu kredit, kategori kartu kredit, dll. Ada hampir 18 fitur.\r\n",
        "\r\n",
        "Lakukan eksplorasi menggunakan metode yang sudah dipelajari untuk mendapatkan informasi yang akan anda presentasikan kepada manager bank. \r\n"
      ]
    },
    {
      "cell_type": "markdown",
      "metadata": {
        "id": "NAUyTBpCLgmd"
      },
      "source": [
        "Anggota Kelompok:\r\n",
        "*   Dio Aditya Putra Wardhono (1301194290)\r\n",
        "*   Yusril Ramadhan (1301194075)\r\n",
        "*   Rafly Ahmad Yanuar (1301194119)\r\n",
        "*   List item\r\n",
        "\r\n",
        "\r\n",
        "\r\n",
        "\r\n",
        "---\r\n",
        "\r\n",
        "\r\n"
      ]
    },
    {
      "cell_type": "markdown",
      "metadata": {
        "id": "dH4KXAJuLtT_"
      },
      "source": [
        "## **Memuat File CSV**"
      ]
    },
    {
      "cell_type": "markdown",
      "metadata": {
        "id": "BihfcTxmM20H"
      },
      "source": [
        "Muat file CSV dari GitHub repository"
      ]
    },
    {
      "cell_type": "code",
      "metadata": {
        "id": "uPXxl8NPJ9Xa"
      },
      "source": [
        "dataset_urlfile =\"https://raw.githubusercontent.com/dioapw/TUBES_STATISTIKA_DATA/main/BankChurners.csv\""
      ],
      "execution_count": null,
      "outputs": []
    },
    {
      "cell_type": "markdown",
      "metadata": {
        "id": "bJXDM7lqNBwB"
      },
      "source": [
        "Muat file CSV ke variabel \"bank_data\""
      ]
    },
    {
      "cell_type": "code",
      "metadata": {
        "id": "XN1iw7r9uady"
      },
      "source": [
        "if (!require(\"readr\")) {\r\n",
        "  library(readr)\r\n",
        "}\r\n",
        "\r\n",
        "bank_data <- read.csv(url(dataset_urlfile))"
      ],
      "execution_count": null,
      "outputs": []
    },
    {
      "cell_type": "markdown",
      "metadata": {
        "id": "Jbxrg11YNMaq"
      },
      "source": [
        "## **Penjelasan Tentang Dataset**"
      ]
    },
    {
      "cell_type": "markdown",
      "metadata": {
        "id": "FX6NQfDMPT3C"
      },
      "source": [
        "*Sebelum kita melakukan eksplorasi dari dataset ini serta menganalisisnya, kita akan mencari tahu lebih dalam mengenai data-data yang ada di dataset ini.*\r\n",
        "\r\n",
        "\r\n",
        "\r\n"
      ]
    },
    {
      "cell_type": "markdown",
      "metadata": {
        "id": "Wo5zFVICQHa7"
      },
      "source": [
        "**1. Menampilkan jumlah kolom dalam dataset**\r\n",
        "\r\n",
        "\r\n"
      ]
    },
    {
      "cell_type": "markdown",
      "metadata": {
        "id": "sl9UAHEKRDky"
      },
      "source": [
        "*Pertama, kita akan melihat berapa jumlah kolom dalam dataset ini.*"
      ]
    },
    {
      "cell_type": "code",
      "metadata": {
        "id": "dguFl31yQSud"
      },
      "source": [
        "ncol(bank_data)"
      ],
      "execution_count": null,
      "outputs": []
    },
    {
      "cell_type": "markdown",
      "metadata": {
        "id": "qIBKBm-SQeC1"
      },
      "source": [
        "**2. Menampilkan jumlah baris dalam dataset**"
      ]
    },
    {
      "cell_type": "markdown",
      "metadata": {
        "id": "TI95tzCCRP7A"
      },
      "source": [
        "*Kedua, kita akan melihat berapa jumlah baris yang ada di dataset ini.*"
      ]
    },
    {
      "cell_type": "code",
      "metadata": {
        "id": "5Qk6xFmxQbB3"
      },
      "source": [
        "nrow(bank_data)"
      ],
      "execution_count": null,
      "outputs": []
    },
    {
      "cell_type": "markdown",
      "metadata": {
        "id": "FceGFEOeP5Db"
      },
      "source": [
        "**3. Daftar nama variabel dalam dataset**"
      ]
    },
    {
      "cell_type": "markdown",
      "metadata": {
        "id": "nbPoXGf9RgBO"
      },
      "source": [
        "*Ketiga, kita akan mencari tahu nama-nama variabel yang ada di dataset ini.*"
      ]
    },
    {
      "cell_type": "code",
      "metadata": {
        "id": "dwHqKs7dP-Qq"
      },
      "source": [
        "names(bank_data)"
      ],
      "execution_count": null,
      "outputs": []
    },
    {
      "cell_type": "markdown",
      "metadata": {
        "id": "5IV0BK5GYsXW"
      },
      "source": [
        "\r\n",
        "\r\n",
        "---\r\n",
        "\r\n",
        "\r\n",
        "*Penjelasan:*\r\n",
        "* *CLIENTNUM = Nomor klien. Pengenal unik untuk pelanggan yang memegang akun*\r\n",
        "* *Attrition_Flag = Variabel peristiwa internal (aktivitas pelanggan) - jika akun ditutup maka 1 lainnya 0*\r\n",
        "* *Customer_Age = Variabel demografis - Usia Pelanggan dalam Tahun*\r\n",
        "* *Gender = Variabel demografis - M = Pria, F = Wanita*\r\n",
        "* *Dependent_count = Variabel demografis - Jumlah tanggungan*\r\n",
        "* *Education_Level = Variabel demografis - Kualifikasi Pendidikan pemegang akun (contoh: sekolah menengah, lulusan perguruan tinggi, dll.)*\r\n",
        "* *Marital_Status = Variabel demografis - Menikah, Lajang, Bercerai, Tidak Diketahui*\r\n",
        "* *Income_Category = Variabel demografis - Kategori Pendapatan Tahunan pemegang akun (<$ 40K, $ 40K - 60K, $ 60K - $ 80K, $ 80K- $ 120K,> $ 120K, Tidak Diketahui)*\r\n",
        "* *Card_Category = Variabel Produk - Jenis Kartu (Biru, Perak, Emas, Platinum)*\r\n",
        "* *Months_on_book = Jangka waktu hubungan dengan bank*\r\n",
        "* *Total_Relationship_Count = Jumlah total produk yang dipegang oleh pelanggan*\r\n",
        "* *Months_Inactive_12_mon = Jumlah bulan tidak aktif dalam 12 bulan terakhir*\r\n",
        "* *Contacts_Count_12_mon = Jumlah Kontak dalam 12 bulan terakhir*\r\n",
        "* *Credit_Limit = Limit Kredit pada Kartu Kredit*\r\n",
        "* *Total_Revolving_Bal = Total Saldo Bergulir pada Kartu Kredit*\r\n",
        "* *Avg_Open_To_Buy = Open to Buy Credit Line (Rata-rata 12 bulan terakhir)*\r\n",
        "* *Total_Amt_Chng_Q4_Q1 = Perubahan Jumlah Transaksi (Q4 sampai Q1)*\r\n",
        "* *Total_Trans_Amt = Jumlah Transaksi Total (12 bulan terakhir)*\r\n",
        "* *Total_Trans_Ct = Banyaknya Jumlah Transaksi (12 bulan terakhir)*\r\n",
        "* *Total_Ct_Chng_Q4_Q1 = Perubahan Hitungan Transaksi (Q4 sampai Q1)*\r\n",
        "* *Avg_Utilization_Ratio = Rasio Penggunaan Kartu Rata-rata*\r\n",
        "* *Naive_Bayes_Classifier_Attrition_Flag_Card_Category_Contacts_Count_12_mon_Dependent_count_Education_Level_Months_Inactive_12_mon_1 = Naive Bayes*\r\n",
        "* *Naive_Bayes_Classifier_Attrition_Flag_Card_Category_Contacts_Count_12_mon_Dependent_count_Education_Level_Months_Inactive_12_mon_2 = Naive Bayes*"
      ]
    },
    {
      "cell_type": "markdown",
      "metadata": {
        "id": "s2La0NFxQupn"
      },
      "source": [
        "**4. Menampilkan struktur dataset**"
      ]
    },
    {
      "cell_type": "markdown",
      "metadata": {
        "id": "EU9QWFHyR5_b"
      },
      "source": [
        "*Keempat, kita akan mencari tahu bagaimana struktur data dalam dataset ini.*"
      ]
    },
    {
      "cell_type": "code",
      "metadata": {
        "id": "Eyx4I7WqQyF7"
      },
      "source": [
        "str(bank_data)"
      ],
      "execution_count": null,
      "outputs": []
    },
    {
      "cell_type": "markdown",
      "metadata": {
        "id": "nAlHyPQ_gBfE"
      },
      "source": [
        "*Dapat kita lihat bahwa terdapat 3 tipe data yang ada di dataset ini, yaitu: integer, character dan number.Kita juga dapat melihat terdapat beberapa variabel yang termasuk dalam data nominal, ordinal, interval dan rasio,*\r\n",
        "\r\n",
        "*seperti: Gender = nominal, Card_Category = ordinal, Credit_Limit = interval, Total_Trans_Amt = rasio, dll.*"
      ]
    },
    {
      "cell_type": "markdown",
      "metadata": {
        "id": "n9DM-3rAN3Q2"
      },
      "source": [
        "**5. Menampilkan 8 baris pertama dari dataset**"
      ]
    },
    {
      "cell_type": "markdown",
      "metadata": {
        "id": "Iqxp-jcyi4-6"
      },
      "source": [
        "*Kelima, kita akan melihat 8 baris pertama dari dataset ini agar kita dapat mengetahui gambaran awal mengenai dataset ini.*"
      ]
    },
    {
      "cell_type": "code",
      "metadata": {
        "id": "LVlJhB0mu1yK"
      },
      "source": [
        "head(bank_data,8)"
      ],
      "execution_count": null,
      "outputs": []
    },
    {
      "cell_type": "markdown",
      "metadata": {
        "id": "ODw2ShC7LJ8Y"
      },
      "source": [
        "**6. Menampilkan 8 baris terakhir dari dataset**\r\n",
        "\r\n"
      ]
    },
    {
      "cell_type": "markdown",
      "metadata": {
        "id": "d-f1gsK0jP18"
      },
      "source": [
        "*Keenam, kita akan melihat 8 baris terakhir dari dataset agar kita dapat mengetahui apakah ada perbedaan dari 8 baris pertama yang sebelumnya kita lihat.*"
      ]
    },
    {
      "cell_type": "code",
      "metadata": {
        "id": "jNg3SdBEOf76"
      },
      "source": [
        "tail(bank_data,8)"
      ],
      "execution_count": null,
      "outputs": []
    },
    {
      "cell_type": "markdown",
      "metadata": {
        "id": "bBnGc6_ekONa"
      },
      "source": [
        "*Dapat dilihat bahwa data dari 8 baris pertama dengan 8 baris terakhir tidak berbeda, variabel masih terisi semua.*"
      ]
    },
    {
      "cell_type": "markdown",
      "metadata": {
        "id": "NAAXp4brRaxj"
      },
      "source": [
        "**7. Menampilkan jumlah data yang hilang**"
      ]
    },
    {
      "cell_type": "markdown",
      "metadata": {
        "id": "IVk--Ix2him4"
      },
      "source": [
        "*Ketujuh, kita akan melihat apakah ada missing value dari dataset ini untuk masing-masing variabel.*"
      ]
    },
    {
      "cell_type": "code",
      "metadata": {
        "id": "xRvZv0WNRQv4"
      },
      "source": [
        "data.frame(missing_value = unclass(colSums(is.na(bank_data))))"
      ],
      "execution_count": null,
      "outputs": []
    },
    {
      "cell_type": "markdown",
      "metadata": {
        "id": "NGJ9fCdjM7NF"
      },
      "source": [
        "*Kita bisa lihat bahwa tidak ada data yang hilang di dalam variabel dataset ini atau dapat dikatakan semua variabel memiliki data yang valid.*\r\n",
        "\r\n"
      ]
    },
    {
      "cell_type": "markdown",
      "metadata": {
        "id": "UY_O6118Rwq4"
      },
      "source": [
        "**8. Hitung deskripsi statistik**"
      ]
    },
    {
      "cell_type": "markdown",
      "metadata": {
        "id": "4hHVbfhShTao"
      },
      "source": [
        "*Kedelapan, kita akan menghitung deskripsi statistik dari tiap-tiap variabel di dataset ini.*"
      ]
    },
    {
      "cell_type": "code",
      "metadata": {
        "id": "DIxeDZNcR5sG"
      },
      "source": [
        "data.frame(unclass(summary(bank_data)))"
      ],
      "execution_count": null,
      "outputs": []
    },
    {
      "cell_type": "markdown",
      "metadata": {
        "id": "tMsQXpc8SXOG"
      },
      "source": [
        "*Kita dapat melihat beberapa nilai dari mean, median, kuartil 1, kuartil 3, minimum dan maksimum untuk beberapa variabel di dalam dataset ini.Terdapat juga beberapa data terkait length, class dan mode untuk beberapa variabel. Maka dapat disimpulkan secara global bahwa variabel yang memiliki mean, median, kuartil 1 dan 3, minimum dan maksimum merupakan variabel interval atau rasio sedangkan variabel yang mempunyai length, class dan mode termasuk variabel nominal atau ordinal.*\r\n",
        "\r\n",
        "*Untuk saat ini kita hanya melihat gambaran umum dari deskripsi statistik untuk semua variabel di dalam dataset ini. Adapun penjelasan lebih lanjut untuk beberapa variabel diatas, kita akan membahasnya di bagian eksplorasi data.*"
      ]
    },
    {
      "cell_type": "markdown",
      "metadata": {
        "id": "nskgOzQAifc-"
      },
      "source": [
        "## **Eksplorasi & Analisis Data**"
      ]
    },
    {
      "cell_type": "markdown",
      "metadata": {
        "id": "dDvQnQc9i4yO"
      },
      "source": [
        "*Selanjutnya kita akan melakukan eksplorasi dan analisis dari beberapa variabel di dalam dataset ini  agar kita dapat mengetahui lebih lanjut mengenai karakteristik data di dalam dataset ini.*\r\n",
        "\r\n",
        "*Variabel yang akan diambil adalah variabel yang memiliki kemungkinan berhubungan dengan permasalahan manager bank yang sebelumnya kita baca.*\r\n",
        "\r\n",
        "\r\n",
        "---\r\n",
        "\r\n"
      ]
    },
    {
      "cell_type": "markdown",
      "metadata": {
        "id": "f9tTCxrgj2P_"
      },
      "source": [
        "### **1. Distribusi dari Banyaknya Jumlah Transaksi**"
      ]
    },
    {
      "cell_type": "markdown",
      "metadata": {
        "id": "HZd665glcrvj"
      },
      "source": [
        "*Kita akan melihat bagaimana distribusi dari Total_Trans_Ct dengan menggunakan box plot dan histogram.*"
      ]
    },
    {
      "cell_type": "code",
      "metadata": {
        "id": "tuloDWB-kItW"
      },
      "source": [
        "boxplot(bank_data$Total_Trans_Ct)"
      ],
      "execution_count": null,
      "outputs": []
    },
    {
      "cell_type": "markdown",
      "metadata": {
        "id": "jC6AiTqsgNz5"
      },
      "source": [
        "*Kita dapat melihat dari boxplot diatas terdapat 2 pencilan dari variabel Total_Trans_Ct, dan dilihat dari whisker atas lebih panjang dibandingkan whisker bawah sehingga kita dapat mengetahui bahwa Total_Trans_Ct memiliki kemiringan yang cenderung positif .*"
      ]
    },
    {
      "cell_type": "code",
      "metadata": {
        "id": "1NVWCnFOfxUw"
      },
      "source": [
        "hist(bank_data$Total_Trans_Ct)"
      ],
      "execution_count": null,
      "outputs": []
    },
    {
      "cell_type": "markdown",
      "metadata": {
        "id": "BCJRENwbgQ5j"
      },
      "source": [
        "*Dari bentuk histogram maka kita dapat melihat bahwa Total_Trans_Ct memiliki titik tengah antara 60 - 80, kemudian kita dapat melihat dengan lebih jelas bahwa Total_Trans_Ct memiliki kemiringan cenderung positif dikarenakan ujung dari kemiringan menjulur ke arah positif (ekor kurva sebelah kanan lebih panjang).*"
      ]
    },
    {
      "cell_type": "code",
      "metadata": {
        "id": "Q-JSntPMfy-o"
      },
      "source": [
        "var(bank_data$Total_Trans_Ct)"
      ],
      "execution_count": null,
      "outputs": []
    },
    {
      "cell_type": "markdown",
      "metadata": {
        "id": "OCEI5cHqli73"
      },
      "source": [
        "*Dari nilai variansi diatas kita dapat mengetahui bahwa data dari Total_Trans_Ct sangat tersebar di sekitar nilai rerata dikarenakan nilai variansi yang tinggi.*\r\n"
      ]
    },
    {
      "cell_type": "markdown",
      "metadata": {
        "id": "O9BGV6eRo0TX"
      },
      "source": [
        "### **2. Distribusi dari Jumlah Total Transaksi**"
      ]
    },
    {
      "cell_type": "code",
      "metadata": {
        "id": "-5Uf1_vZpMLM"
      },
      "source": [
        "boxplot(bank_data$Total_Trans_Amt)"
      ],
      "execution_count": null,
      "outputs": []
    },
    {
      "cell_type": "markdown",
      "metadata": {
        "id": "CfTUGoHekeiw"
      },
      "source": [
        "*Kita lihat dari data boxplot diatas terdapat banyak pencilan dari variabel Total_Trans_Amt, kemudian kita lihat dari whisker atas lebih panjang dibandingkan whisker bawah sehingga kita dapat mengetahui Total_Trans_Amt memiliki kemiringan yang positif.*"
      ]
    },
    {
      "cell_type": "code",
      "metadata": {
        "id": "W0AUS_lmieL-"
      },
      "source": [
        "hist(bank_data$Total_Trans_Amt)"
      ],
      "execution_count": null,
      "outputs": []
    },
    {
      "cell_type": "markdown",
      "metadata": {
        "id": "ZTml7OTimZc2"
      },
      "source": [
        "*kita dapat lihat histogram dari variabel Total_Trans_Amt terdapat pencapain tertinggi di nilai antara 0-5000 dibandingkan nilai antara 5001-15000an.* "
      ]
    },
    {
      "cell_type": "code",
      "metadata": {
        "id": "sMmU8z6Aie5n"
      },
      "source": [
        "var(bank_data$Total_Trans_Amt)"
      ],
      "execution_count": null,
      "outputs": []
    },
    {
      "cell_type": "markdown",
      "metadata": {
        "id": "Z9ffUBEhql1e"
      },
      "source": [
        "*Maka dari nilai variansi diatas kita mengetahui bahwa nilai dari variabel Total_Trans_Amt adalah sangat tersebar di sekitar nilai rerata dikarenakan nilai variansi yang tinggi.*"
      ]
    },
    {
      "cell_type": "markdown",
      "metadata": {
        "id": "5YgFbYnZsQfp"
      },
      "source": [
        "### **3. Hubungan Antara Banyaknya Jumlah Transaksi dengan Jumlah Total Transaksi**"
      ]
    },
    {
      "cell_type": "code",
      "metadata": {
        "id": "xenFVoREtzoz"
      },
      "source": [
        "plot(\r\n",
        "  bank_data$Total_Trans_Ct, bank_data$Total_Trans_Amt, main = \"Hubungan Antara Banyaknya Transaksi dengan Total Transaksi\",\r\n",
        "  xlab = \"Banyaknya Jumlah Transaksi\", ylab = \"Jumlah Total Transaksi\",\r\n",
        "  pch = 19, frame = TRUE)\r\n",
        "  lines(lowess(bank_data$Total_Trans_Ct,bank_data$Total_Trans_Amt), col = \"red\")"
      ],
      "execution_count": null,
      "outputs": []
    },
    {
      "cell_type": "markdown",
      "metadata": {
        "id": "hH_y1EwV0940"
      },
      "source": [
        "*Dari scatter plot diatas maka kita dapat mengetahui banyaknya jumlah transaksi dari hubungan antara Total_Trans_Ct dan Total_Trans_Amt yaitu hubungan ada kecendrungan korelasi positif apabila x naik dan y naik tapi mungkin ada faktor lain yang mempengaruhi faktor lain yang berpengaruh.*\r\n",
        "\r\n"
      ]
    },
    {
      "cell_type": "code",
      "metadata": {
        "id": "Yu5CUl-c2fir"
      },
      "source": [
        "cor(bank_data$Total_Trans_Ct, bank_data$Total_Trans_Amt, method='pearson')"
      ],
      "execution_count": null,
      "outputs": []
    },
    {
      "cell_type": "markdown",
      "metadata": {
        "id": "EPrXSZA02ovm"
      },
      "source": [
        "*Kita ketahui dari hasil korelasi antara variabel Total_Trans_Ct dan Total_Trans_Amt adalah memiiki nilai korelasi yang positif kuat.*"
      ]
    },
    {
      "cell_type": "markdown",
      "metadata": {
        "id": "QnG-zm1m1t3d"
      },
      "source": [
        "### **4. Distribusi dari Kategori Kartu**"
      ]
    },
    {
      "cell_type": "code",
      "metadata": {
        "id": "353AtRq62CcI"
      },
      "source": [
        "if (!require(\"plotrix\")) {\r\n",
        "  install.packages(\"plotrix\")\r\n",
        "  library(RColorBrewer)\r\n",
        "}\r\n",
        "\r\n",
        "card_table <- table(bank_data$Card_Category) #import the variabel into a temp table\r\n",
        "lbls <- paste(\"(\",names(card_table),\")\", \"\\n\", card_table, sep=\"\") # make new label\r\n",
        "pct <- round(100*card_table/sum(card_table), 1) # make the percentage \r\n",
        "lbls <- paste(pct,\"%\",sep=\"\")  # add percentage into the label\r\n",
        "\r\n",
        "pie3D(card_table, labels = lbls, col = c(\"blue\",\"gold\",\"red\",\"darkgray\"), main = \"Distribusi dari Kategori Kartu\") # make the pie chart\r\n",
        "legend(\"topright\",c(\"Blue\",\"Gold\",\"Platinum\",\"Silver\"),fill=c(\"blue\",\"gold\",\"red\",\"darkgray\"),cex=1,bty=\"n\") # add a legend into the pie chart"
      ],
      "execution_count": null,
      "outputs": []
    },
    {
      "cell_type": "markdown",
      "metadata": {
        "id": "pbVAqZzBOIDi"
      },
      "source": [
        "*Dari data chart diatas dimana distribusi berdasarkan kategori kartu dominan oleh kartu tipe biru dibandingkan tipe lainnya.*"
      ]
    },
    {
      "cell_type": "markdown",
      "metadata": {
        "id": "5aNd5Or2OJ2Y"
      },
      "source": [
        "### **5. Distribusi dari Tingkat Pendidikan Tiap Pelanggan**"
      ]
    },
    {
      "cell_type": "code",
      "metadata": {
        "id": "zYaZx290PotS"
      },
      "source": [
        "edu <- table(bank_data$Education_Level)\r\n",
        "barplot(edu, main=\"Distribusi dari Tingkat Pendidikan Tiap Pelanggan\",las=2,cex.names = 0.7)"
      ],
      "execution_count": null,
      "outputs": []
    },
    {
      "cell_type": "markdown",
      "metadata": {
        "id": "G5dhMGSpZ_35"
      },
      "source": [
        "*Dari data diatas didapatkan distribusi dari tingkat pendidikan tiap pelanggan yaitu kebanyakkan Graduated.*\r\n",
        "\r\n",
        "---\r\n",
        "\r\n",
        "\r\n",
        "\r\n"
      ]
    },
    {
      "cell_type": "markdown",
      "metadata": {
        "id": "1Onu9VbxaDQX"
      },
      "source": [
        "## **Kesimpulan**"
      ]
    },
    {
      "cell_type": "markdown",
      "metadata": {
        "id": "TZHspZagaGi8"
      },
      "source": [
        "*Maka dapat kita simpulkan bahwa dalam membaca sebuah data agar lebih terperinci atau lebih jelas kita bisa menggunakan banyak metode dalam melakukan pembacaan sebuah data, seperti halnya pembacaan data diatas dengan menggunakan metode metode seperti histogram, scatter plot, boxplot, chart dan juga korelasi kita akan lebih mudah memahami data tersebut.*"
      ]
    }
  ]
}