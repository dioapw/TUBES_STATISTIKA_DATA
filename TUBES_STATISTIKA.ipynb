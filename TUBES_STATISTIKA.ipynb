{
  "nbformat": 4,
  "nbformat_minor": 0,
  "metadata": {
    "colab": {
      "name": "TUBES_STATISTIKA.ipynb",
      "provenance": [],
      "collapsed_sections": [],
      "include_colab_link": true
    },
    "kernelspec": {
      "name": "ir",
      "display_name": "R"
    }
  },
  "cells": [
    {
      "cell_type": "markdown",
      "metadata": {
        "id": "view-in-github",
        "colab_type": "text"
      },
      "source": [
        "<a href=\"https://colab.research.google.com/github/dioapw/TUBES_STATISTIKA_DATA/blob/main/TUBES_STATISTIKA.ipynb\" target=\"_parent\"><img src=\"https://colab.research.google.com/assets/colab-badge.svg\" alt=\"Open In Colab\"/></a>"
      ]
    },
    {
      "cell_type": "markdown",
      "metadata": {
        "id": "IFiw0elXLOqa"
      },
      "source": [
        "# **TUBES STATISTIKA**"
      ]
    },
    {
      "cell_type": "markdown",
      "metadata": {
        "id": "SVdtVUIGLW8J"
      },
      "source": [
        "Deskripsi masalah tentang data : (https://www.kaggle.com/sakshigoyal7/credit-card-customers)\r\n",
        "\r\n",
        "Manager suatu bank ingin mendapat gambaran tentang karakteristik pemegang kartu kredit yang mereka terbitkan, berdasarkan data berisi fitur-fitur pemegang kartu kredit (kolom A-U) dan peluang pemegang kartu kredit berpindah ke bank lain (kolom V dan W). \r\n",
        "\r\n",
        "Sekarang, kumpulan data ini terdiri dari 10.000 pelanggan yang menyebutkan usia, gaji, status_kawinan, batas kartu kredit, kategori kartu kredit, dll. Ada hampir 18 fitur.\r\n",
        "\r\n",
        "Lakukan eksplorasi menggunakan metode yang sudah dipelajari untuk mendapatkan informasi yang akan anda presentasikan kepada manager bank. \r\n"
      ]
    },
    {
      "cell_type": "markdown",
      "metadata": {
        "id": "NAUyTBpCLgmd"
      },
      "source": [
        "Anggota Kelompok:\r\n",
        "*   Dio Aditya Putra Wardhono (1301194290)\r\n",
        "*   Yusril Ramadhan (1301194075)\r\n",
        "*   Rafly Ahmad Yanuar (1301194119)\r\n",
        "*   List item\r\n",
        "\r\n",
        "\r\n",
        "\r\n"
      ]
    },
    {
      "cell_type": "markdown",
      "metadata": {
        "id": "dH4KXAJuLtT_"
      },
      "source": [
        "## **Memuat File CSV**"
      ]
    },
    {
      "cell_type": "markdown",
      "metadata": {
        "id": "KMnZzN0GMpsx"
      },
      "source": [
        "Import Library"
      ]
    },
    {
      "cell_type": "code",
      "metadata": {
        "id": "7fZ4kF6jJ7ur"
      },
      "source": [
        "library (readr)"
      ],
      "execution_count": null,
      "outputs": []
    },
    {
      "cell_type": "markdown",
      "metadata": {
        "id": "BihfcTxmM20H"
      },
      "source": [
        "Muat file CSV dari GitHub repository"
      ]
    },
    {
      "cell_type": "code",
      "metadata": {
        "id": "uPXxl8NPJ9Xa"
      },
      "source": [
        "dataset_urlfile =\"https://raw.githubusercontent.com/dioapw/TUBES_STATISTIKA_DATA/main/BankChurners.csv\""
      ],
      "execution_count": null,
      "outputs": []
    },
    {
      "cell_type": "markdown",
      "metadata": {
        "id": "bJXDM7lqNBwB"
      },
      "source": [
        "Muat file CSV ke variabel \"bank_data\""
      ]
    },
    {
      "cell_type": "code",
      "metadata": {
        "id": "XN1iw7r9uady"
      },
      "source": [
        "bank_data <- read.csv(url(dataset_urlfile))"
      ],
      "execution_count": null,
      "outputs": []
    },
    {
      "cell_type": "markdown",
      "metadata": {
        "id": "Jbxrg11YNMaq"
      },
      "source": [
        "## **Penjelasan Tentang Dataset**"
      ]
    },
    {
      "cell_type": "markdown",
      "metadata": {
        "id": "FX6NQfDMPT3C"
      },
      "source": [
        "*Sebelum kita melakukan eksplorasi dari dataset ini serta menganalisisnya, kita akan mencari tahu lebih dalam mengenai data-data yang ada di dataset ini.*\r\n",
        "\r\n",
        "\r\n",
        "\r\n"
      ]
    },
    {
      "cell_type": "markdown",
      "metadata": {
        "id": "Wo5zFVICQHa7"
      },
      "source": [
        "**1. Menampilkan jumlah kolom dalam dataset**\r\n",
        "\r\n",
        "\r\n"
      ]
    },
    {
      "cell_type": "markdown",
      "metadata": {
        "id": "sl9UAHEKRDky"
      },
      "source": [
        "*Pertama, kita akan melihat berapa jumlah kolom dalam dataset ini.*"
      ]
    },
    {
      "cell_type": "code",
      "metadata": {
        "colab": {
          "base_uri": "https://localhost:8080/",
          "height": 34
        },
        "id": "dguFl31yQSud",
        "outputId": "19afb54b-3a40-4eb4-8254-e6feb2c80fa4"
      },
      "source": [
        "ncol(bank_data)"
      ],
      "execution_count": null,
      "outputs": [
        {
          "output_type": "display_data",
          "data": {
            "text/plain": [
              "[1] 23"
            ],
            "text/latex": "23",
            "text/markdown": "23",
            "text/html": [
              "23"
            ]
          },
          "metadata": {
            "tags": []
          }
        }
      ]
    },
    {
      "cell_type": "markdown",
      "metadata": {
        "id": "qIBKBm-SQeC1"
      },
      "source": [
        "**2. Menampilkan jumlah baris dalam dataset**"
      ]
    },
    {
      "cell_type": "markdown",
      "metadata": {
        "id": "TI95tzCCRP7A"
      },
      "source": [
        "*Kedua, kita akan melihat berapa jumlah baris yang ada di dataset ini.*"
      ]
    },
    {
      "cell_type": "code",
      "metadata": {
        "id": "5Qk6xFmxQbB3",
        "colab": {
          "base_uri": "https://localhost:8080/",
          "height": 34
        },
        "outputId": "d92d1ee9-8f8c-444e-e8aa-9334f0c66b06"
      },
      "source": [
        "nrow(bank_data)"
      ],
      "execution_count": 11,
      "outputs": [
        {
          "output_type": "display_data",
          "data": {
            "text/plain": [
              "[1] 10127"
            ],
            "text/latex": "10127",
            "text/markdown": "10127",
            "text/html": [
              "10127"
            ]
          },
          "metadata": {
            "tags": []
          }
        }
      ]
    },
    {
      "cell_type": "markdown",
      "metadata": {
        "id": "FceGFEOeP5Db"
      },
      "source": [
        "**3. Daftar nama variabel dalam dataset**"
      ]
    },
    {
      "cell_type": "markdown",
      "metadata": {
        "id": "nbPoXGf9RgBO"
      },
      "source": [
        "*Ketiga, kita akan mencari tahu nama-nama variabel yang ada di dataset ini.*"
      ]
    },
    {
      "cell_type": "code",
      "metadata": {
        "id": "dwHqKs7dP-Qq",
        "colab": {
          "base_uri": "https://localhost:8080/",
          "height": 84
        },
        "outputId": "b679ffdb-0609-4d58-bb56-ebd4cb9feae9"
      },
      "source": [
        "names(bank_data)"
      ],
      "execution_count": 17,
      "outputs": [
        {
          "output_type": "display_data",
          "data": {
            "text/plain": [
              " [1] \"CLIENTNUM\"                                                                                                                         \n",
              " [2] \"Attrition_Flag\"                                                                                                                    \n",
              " [3] \"Customer_Age\"                                                                                                                      \n",
              " [4] \"Gender\"                                                                                                                            \n",
              " [5] \"Dependent_count\"                                                                                                                   \n",
              " [6] \"Education_Level\"                                                                                                                   \n",
              " [7] \"Marital_Status\"                                                                                                                    \n",
              " [8] \"Income_Category\"                                                                                                                   \n",
              " [9] \"Card_Category\"                                                                                                                     \n",
              "[10] \"Months_on_book\"                                                                                                                    \n",
              "[11] \"Total_Relationship_Count\"                                                                                                          \n",
              "[12] \"Months_Inactive_12_mon\"                                                                                                            \n",
              "[13] \"Contacts_Count_12_mon\"                                                                                                             \n",
              "[14] \"Credit_Limit\"                                                                                                                      \n",
              "[15] \"Total_Revolving_Bal\"                                                                                                               \n",
              "[16] \"Avg_Open_To_Buy\"                                                                                                                   \n",
              "[17] \"Total_Amt_Chng_Q4_Q1\"                                                                                                              \n",
              "[18] \"Total_Trans_Amt\"                                                                                                                   \n",
              "[19] \"Total_Trans_Ct\"                                                                                                                    \n",
              "[20] \"Total_Ct_Chng_Q4_Q1\"                                                                                                               \n",
              "[21] \"Avg_Utilization_Ratio\"                                                                                                             \n",
              "[22] \"Naive_Bayes_Classifier_Attrition_Flag_Card_Category_Contacts_Count_12_mon_Dependent_count_Education_Level_Months_Inactive_12_mon_1\"\n",
              "[23] \"Naive_Bayes_Classifier_Attrition_Flag_Card_Category_Contacts_Count_12_mon_Dependent_count_Education_Level_Months_Inactive_12_mon_2\""
            ],
            "text/latex": "\\begin{enumerate*}\n\\item 'CLIENTNUM'\n\\item 'Attrition\\_Flag'\n\\item 'Customer\\_Age'\n\\item 'Gender'\n\\item 'Dependent\\_count'\n\\item 'Education\\_Level'\n\\item 'Marital\\_Status'\n\\item 'Income\\_Category'\n\\item 'Card\\_Category'\n\\item 'Months\\_on\\_book'\n\\item 'Total\\_Relationship\\_Count'\n\\item 'Months\\_Inactive\\_12\\_mon'\n\\item 'Contacts\\_Count\\_12\\_mon'\n\\item 'Credit\\_Limit'\n\\item 'Total\\_Revolving\\_Bal'\n\\item 'Avg\\_Open\\_To\\_Buy'\n\\item 'Total\\_Amt\\_Chng\\_Q4\\_Q1'\n\\item 'Total\\_Trans\\_Amt'\n\\item 'Total\\_Trans\\_Ct'\n\\item 'Total\\_Ct\\_Chng\\_Q4\\_Q1'\n\\item 'Avg\\_Utilization\\_Ratio'\n\\item 'Naive\\_Bayes\\_Classifier\\_Attrition\\_Flag\\_Card\\_Category\\_Contacts\\_Count\\_12\\_mon\\_Dependent\\_count\\_Education\\_Level\\_Months\\_Inactive\\_12\\_mon\\_1'\n\\item 'Naive\\_Bayes\\_Classifier\\_Attrition\\_Flag\\_Card\\_Category\\_Contacts\\_Count\\_12\\_mon\\_Dependent\\_count\\_Education\\_Level\\_Months\\_Inactive\\_12\\_mon\\_2'\n\\end{enumerate*}\n",
            "text/markdown": "1. 'CLIENTNUM'\n2. 'Attrition_Flag'\n3. 'Customer_Age'\n4. 'Gender'\n5. 'Dependent_count'\n6. 'Education_Level'\n7. 'Marital_Status'\n8. 'Income_Category'\n9. 'Card_Category'\n10. 'Months_on_book'\n11. 'Total_Relationship_Count'\n12. 'Months_Inactive_12_mon'\n13. 'Contacts_Count_12_mon'\n14. 'Credit_Limit'\n15. 'Total_Revolving_Bal'\n16. 'Avg_Open_To_Buy'\n17. 'Total_Amt_Chng_Q4_Q1'\n18. 'Total_Trans_Amt'\n19. 'Total_Trans_Ct'\n20. 'Total_Ct_Chng_Q4_Q1'\n21. 'Avg_Utilization_Ratio'\n22. 'Naive_Bayes_Classifier_Attrition_Flag_Card_Category_Contacts_Count_12_mon_Dependent_count_Education_Level_Months_Inactive_12_mon_1'\n23. 'Naive_Bayes_Classifier_Attrition_Flag_Card_Category_Contacts_Count_12_mon_Dependent_count_Education_Level_Months_Inactive_12_mon_2'\n\n\n",
            "text/html": [
              "<style>\n",
              ".list-inline {list-style: none; margin:0; padding: 0}\n",
              ".list-inline>li {display: inline-block}\n",
              ".list-inline>li:not(:last-child)::after {content: \"\\00b7\"; padding: 0 .5ex}\n",
              "</style>\n",
              "<ol class=list-inline><li>'CLIENTNUM'</li><li>'Attrition_Flag'</li><li>'Customer_Age'</li><li>'Gender'</li><li>'Dependent_count'</li><li>'Education_Level'</li><li>'Marital_Status'</li><li>'Income_Category'</li><li>'Card_Category'</li><li>'Months_on_book'</li><li>'Total_Relationship_Count'</li><li>'Months_Inactive_12_mon'</li><li>'Contacts_Count_12_mon'</li><li>'Credit_Limit'</li><li>'Total_Revolving_Bal'</li><li>'Avg_Open_To_Buy'</li><li>'Total_Amt_Chng_Q4_Q1'</li><li>'Total_Trans_Amt'</li><li>'Total_Trans_Ct'</li><li>'Total_Ct_Chng_Q4_Q1'</li><li>'Avg_Utilization_Ratio'</li><li>'Naive_Bayes_Classifier_Attrition_Flag_Card_Category_Contacts_Count_12_mon_Dependent_count_Education_Level_Months_Inactive_12_mon_1'</li><li>'Naive_Bayes_Classifier_Attrition_Flag_Card_Category_Contacts_Count_12_mon_Dependent_count_Education_Level_Months_Inactive_12_mon_2'</li></ol>\n"
            ]
          },
          "metadata": {
            "tags": []
          }
        }
      ]
    },
    {
      "cell_type": "markdown",
      "metadata": {
        "id": "5IV0BK5GYsXW"
      },
      "source": [
        "*Penjelasan:*\r\n",
        "* *CLIENTNUM = Nomor klien. Pengenal unik untuk pelanggan yang memegang akun*\r\n",
        "* *Attrition_Flag = Variabel peristiwa internal (aktivitas pelanggan) - jika akun ditutup maka 1 lainnya 0*\r\n",
        "* *Customer_Age = Variabel demografis - Usia Pelanggan dalam Tahun*\r\n",
        "* *Gender = Variabel demografis - M = Pria, F = Wanita*\r\n",
        "* *Dependent_count = Variabel demografis - Jumlah tanggungan*\r\n",
        "* *Education_Level = Variabel demografis - Kualifikasi Pendidikan pemegang akun (contoh: sekolah menengah, lulusan perguruan tinggi, dll.)*\r\n",
        "* *Marital_Status = Variabel demografis - Menikah, Lajang, Bercerai, Tidak Diketahui*\r\n",
        "* *Income_Category = Variabel demografis - Kategori Pendapatan Tahunan pemegang akun (<$ 40K, $ 40K - 60K, $ 60K - $ 80K, $ 80K- $ 120K,> $ 120K, Tidak Diketahui)*\r\n",
        "* *Card_Category = Variabel Produk - Jenis Kartu (Biru, Perak, Emas, Platinum)*\r\n",
        "* *Months_on_book = Jangka waktu hubungan dengan bank*\r\n",
        "* *Total_Relationship_Count = Jumlah total produk yang dipegang oleh pelanggan*\r\n",
        "* *Months_Inactive_12_mon = Jumlah bulan tidak aktif dalam 12 bulan terakhir*\r\n",
        "* *Contacts_Count_12_mon = Jumlah Kontak dalam 12 bulan terakhir*\r\n",
        "* *Credit_Limit = Limit Kredit pada Kartu Kredit*\r\n",
        "* *Total_Revolving_Bal = Total Saldo Bergulir pada Kartu Kredit*\r\n",
        "* *Avg_Open_To_Buy = Open to Buy Credit Line (Rata-rata 12 bulan terakhir)*\r\n",
        "* *Total_Amt_Chng_Q4_Q1 = Perubahan Jumlah Transaksi (Q4 sampai Q1)*\r\n",
        "* *Total_Trans_Amt = Jumlah Transaksi Total (12 bulan terakhir)*\r\n",
        "* *Total_Trans_Ct = Jumlah Transaksi Total (12 bulan terakhir)*\r\n",
        "* *Total_Ct_Chng_Q4_Q1 = Perubahan Hitungan Transaksi (Q4 sampai Q1)*\r\n",
        "* *Avg_Utilization_Ratio = Rasio Penggunaan Kartu Rata-rata*\r\n",
        "* *Naive_Bayes_Classifier_Attrition_Flag_Card_Category_Contacts_Count_12_mon_Dependent_count_Education_Level_Months_Inactive_12_mon_1 = Naive Bayes*\r\n",
        "* *Naive_Bayes_Classifier_Attrition_Flag_Card_Category_Contacts_Count_12_mon_Dependent_count_Education_Level_Months_Inactive_12_mon_2 = Naive Bayes*"
      ]
    },
    {
      "cell_type": "markdown",
      "metadata": {
        "id": "s2La0NFxQupn"
      },
      "source": [
        "**4. Menampilkan struktur dataset**"
      ]
    },
    {
      "cell_type": "markdown",
      "metadata": {
        "id": "EU9QWFHyR5_b"
      },
      "source": [
        "*Keempat, kita akan mencari tahu bagaimana struktur data dalam dataset ini.*"
      ]
    },
    {
      "cell_type": "code",
      "metadata": {
        "id": "Eyx4I7WqQyF7",
        "colab": {
          "base_uri": "https://localhost:8080/"
        },
        "outputId": "7c3bb443-2698-40a1-dfc3-22c84c077dfe"
      },
      "source": [
        "str(bank_data)"
      ],
      "execution_count": 13,
      "outputs": [
        {
          "output_type": "stream",
          "text": [
            "'data.frame':\t10127 obs. of  23 variables:\n",
            " $ CLIENTNUM                                                                                                                         : int  768805383 818770008 713982108 769911858 709106358 713061558 810347208 818906208 710930508 719661558 ...\n",
            " $ Attrition_Flag                                                                                                                    : chr  \"Existing Customer\" \"Existing Customer\" \"Existing Customer\" \"Existing Customer\" ...\n",
            " $ Customer_Age                                                                                                                      : int  45 49 51 40 40 44 51 32 37 48 ...\n",
            " $ Gender                                                                                                                            : chr  \"M\" \"F\" \"M\" \"F\" ...\n",
            " $ Dependent_count                                                                                                                   : int  3 5 3 4 3 2 4 0 3 2 ...\n",
            " $ Education_Level                                                                                                                   : chr  \"High School\" \"Graduate\" \"Graduate\" \"High School\" ...\n",
            " $ Marital_Status                                                                                                                    : chr  \"Married\" \"Single\" \"Married\" \"Unknown\" ...\n",
            " $ Income_Category                                                                                                                   : chr  \"$60K - $80K\" \"Less than $40K\" \"$80K - $120K\" \"Less than $40K\" ...\n",
            " $ Card_Category                                                                                                                     : chr  \"Blue\" \"Blue\" \"Blue\" \"Blue\" ...\n",
            " $ Months_on_book                                                                                                                    : int  39 44 36 34 21 36 46 27 36 36 ...\n",
            " $ Total_Relationship_Count                                                                                                          : int  5 6 4 3 5 3 6 2 5 6 ...\n",
            " $ Months_Inactive_12_mon                                                                                                            : int  1 1 1 4 1 1 1 2 2 3 ...\n",
            " $ Contacts_Count_12_mon                                                                                                             : int  3 2 0 1 0 2 3 2 0 3 ...\n",
            " $ Credit_Limit                                                                                                                      : num  12691 8256 3418 3313 4716 ...\n",
            " $ Total_Revolving_Bal                                                                                                               : int  777 864 0 2517 0 1247 2264 1396 2517 1677 ...\n",
            " $ Avg_Open_To_Buy                                                                                                                   : num  11914 7392 3418 796 4716 ...\n",
            " $ Total_Amt_Chng_Q4_Q1                                                                                                              : num  1.33 1.54 2.59 1.41 2.17 ...\n",
            " $ Total_Trans_Amt                                                                                                                   : int  1144 1291 1887 1171 816 1088 1330 1538 1350 1441 ...\n",
            " $ Total_Trans_Ct                                                                                                                    : int  42 33 20 20 28 24 31 36 24 32 ...\n",
            " $ Total_Ct_Chng_Q4_Q1                                                                                                               : num  1.62 3.71 2.33 2.33 2.5 ...\n",
            " $ Avg_Utilization_Ratio                                                                                                             : num  0.061 0.105 0 0.76 0 0.311 0.066 0.048 0.113 0.144 ...\n",
            " $ Naive_Bayes_Classifier_Attrition_Flag_Card_Category_Contacts_Count_12_mon_Dependent_count_Education_Level_Months_Inactive_12_mon_1: num  9.34e-05 5.69e-05 2.11e-05 1.34e-04 2.17e-05 ...\n",
            " $ Naive_Bayes_Classifier_Attrition_Flag_Card_Category_Contacts_Count_12_mon_Dependent_count_Education_Level_Months_Inactive_12_mon_2: num  1 1 1 1 1 ...\n"
          ],
          "name": "stdout"
        }
      ]
    },
    {
      "cell_type": "markdown",
      "metadata": {
        "id": "nAlHyPQ_gBfE"
      },
      "source": [
        "*Dapat kita lihat bahwa terdapat 3 tipe data yang ada di dataset ini, yaitu: integer, character dan number.Kita juga dapat melihat terdapat beberapa variabel yang termasuk dalam data nominal, ordinal, interval dan rasio,*\r\n",
        "\r\n",
        "*seperti: Gender = nominal, Card_Category = ordinal, Credit_Limit = interval, Total_Trans_Amt = rasio, dll.*"
      ]
    },
    {
      "cell_type": "markdown",
      "metadata": {
        "id": "n9DM-3rAN3Q2"
      },
      "source": [
        "**5. Menampilkan 8 baris pertama dari dataset**"
      ]
    },
    {
      "cell_type": "markdown",
      "metadata": {
        "id": "Iqxp-jcyi4-6"
      },
      "source": [
        "*Kelima, kita akan melihat 8 baris pertama dari dataset ini agar kita dapat mengetahui gambaran awal mengenai dataset ini.*"
      ]
    },
    {
      "cell_type": "code",
      "metadata": {
        "id": "LVlJhB0mu1yK",
        "colab": {
          "base_uri": "https://localhost:8080/",
          "height": 390
        },
        "outputId": "c7f055f9-af29-46cd-8f38-c30dd11a6329"
      },
      "source": [
        "head(bank_data,8)"
      ],
      "execution_count": 14,
      "outputs": [
        {
          "output_type": "display_data",
          "data": {
            "text/plain": [
              "  CLIENTNUM Attrition_Flag    Customer_Age Gender Dependent_count\n",
              "1 768805383 Existing Customer 45           M      3              \n",
              "2 818770008 Existing Customer 49           F      5              \n",
              "3 713982108 Existing Customer 51           M      3              \n",
              "4 769911858 Existing Customer 40           F      4              \n",
              "5 709106358 Existing Customer 40           M      3              \n",
              "6 713061558 Existing Customer 44           M      2              \n",
              "7 810347208 Existing Customer 51           M      4              \n",
              "8 818906208 Existing Customer 32           M      0              \n",
              "  Education_Level Marital_Status Income_Category Card_Category Months_on_book ⋯\n",
              "1 High School     Married        $60K - $80K     Blue          39             ⋯\n",
              "2 Graduate        Single         Less than $40K  Blue          44             ⋯\n",
              "3 Graduate        Married        $80K - $120K    Blue          36             ⋯\n",
              "4 High School     Unknown        Less than $40K  Blue          34             ⋯\n",
              "5 Uneducated      Married        $60K - $80K     Blue          21             ⋯\n",
              "6 Graduate        Married        $40K - $60K     Blue          36             ⋯\n",
              "7 Unknown         Married        $120K +         Gold          46             ⋯\n",
              "8 High School     Unknown        $60K - $80K     Silver        27             ⋯\n",
              "  Credit_Limit Total_Revolving_Bal Avg_Open_To_Buy Total_Amt_Chng_Q4_Q1\n",
              "1 12691         777                11914           1.335               \n",
              "2  8256         864                 7392           1.541               \n",
              "3  3418           0                 3418           2.594               \n",
              "4  3313        2517                  796           1.405               \n",
              "5  4716           0                 4716           2.175               \n",
              "6  4010        1247                 2763           1.376               \n",
              "7 34516        2264                32252           1.975               \n",
              "8 29081        1396                27685           2.204               \n",
              "  Total_Trans_Amt Total_Trans_Ct Total_Ct_Chng_Q4_Q1 Avg_Utilization_Ratio\n",
              "1 1144            42             1.625               0.061                \n",
              "2 1291            33             3.714               0.105                \n",
              "3 1887            20             2.333               0.000                \n",
              "4 1171            20             2.333               0.760                \n",
              "5  816            28             2.500               0.000                \n",
              "6 1088            24             0.846               0.311                \n",
              "7 1330            31             0.722               0.066                \n",
              "8 1538            36             0.714               0.048                \n",
              "  Naive_Bayes_Classifier_Attrition_Flag_Card_Category_Contacts_Count_12_mon_Dependent_count_Education_Level_Months_Inactive_12_mon_1\n",
              "1 0.00009340                                                                                                                        \n",
              "2 0.00005690                                                                                                                        \n",
              "3 0.00002110                                                                                                                        \n",
              "4 0.00013366                                                                                                                        \n",
              "5 0.00002170                                                                                                                        \n",
              "6 0.00005510                                                                                                                        \n",
              "7 0.00012303                                                                                                                        \n",
              "8 0.00008580                                                                                                                        \n",
              "  Naive_Bayes_Classifier_Attrition_Flag_Card_Category_Contacts_Count_12_mon_Dependent_count_Education_Level_Months_Inactive_12_mon_2\n",
              "1 0.99991                                                                                                                           \n",
              "2 0.99994                                                                                                                           \n",
              "3 0.99998                                                                                                                           \n",
              "4 0.99987                                                                                                                           \n",
              "5 0.99998                                                                                                                           \n",
              "6 0.99994                                                                                                                           \n",
              "7 0.99988                                                                                                                           \n",
              "8 0.99991                                                                                                                           "
            ],
            "text/latex": "A data.frame: 8 × 23\n\\begin{tabular}{r|lllllllllllllllllllll}\n  & CLIENTNUM & Attrition\\_Flag & Customer\\_Age & Gender & Dependent\\_count & Education\\_Level & Marital\\_Status & Income\\_Category & Card\\_Category & Months\\_on\\_book & ⋯ & Credit\\_Limit & Total\\_Revolving\\_Bal & Avg\\_Open\\_To\\_Buy & Total\\_Amt\\_Chng\\_Q4\\_Q1 & Total\\_Trans\\_Amt & Total\\_Trans\\_Ct & Total\\_Ct\\_Chng\\_Q4\\_Q1 & Avg\\_Utilization\\_Ratio & Naive\\_Bayes\\_Classifier\\_Attrition\\_Flag\\_Card\\_Category\\_Contacts\\_Count\\_12\\_mon\\_Dependent\\_count\\_Education\\_Level\\_Months\\_Inactive\\_12\\_mon\\_1 & Naive\\_Bayes\\_Classifier\\_Attrition\\_Flag\\_Card\\_Category\\_Contacts\\_Count\\_12\\_mon\\_Dependent\\_count\\_Education\\_Level\\_Months\\_Inactive\\_12\\_mon\\_2\\\\\n  & <int> & <chr> & <int> & <chr> & <int> & <chr> & <chr> & <chr> & <chr> & <int> & ⋯ & <dbl> & <int> & <dbl> & <dbl> & <int> & <int> & <dbl> & <dbl> & <dbl> & <dbl>\\\\\n\\hline\n\t1 & 768805383 & Existing Customer & 45 & M & 3 & High School & Married & \\$60K - \\$80K    & Blue   & 39 & ⋯ & 12691 &  777 & 11914 & 1.335 & 1144 & 42 & 1.625 & 0.061 & 0.00009340 & 0.99991\\\\\n\t2 & 818770008 & Existing Customer & 49 & F & 5 & Graduate    & Single  & Less than \\$40K & Blue   & 44 & ⋯ &  8256 &  864 &  7392 & 1.541 & 1291 & 33 & 3.714 & 0.105 & 0.00005690 & 0.99994\\\\\n\t3 & 713982108 & Existing Customer & 51 & M & 3 & Graduate    & Married & \\$80K - \\$120K   & Blue   & 36 & ⋯ &  3418 &    0 &  3418 & 2.594 & 1887 & 20 & 2.333 & 0.000 & 0.00002110 & 0.99998\\\\\n\t4 & 769911858 & Existing Customer & 40 & F & 4 & High School & Unknown & Less than \\$40K & Blue   & 34 & ⋯ &  3313 & 2517 &   796 & 1.405 & 1171 & 20 & 2.333 & 0.760 & 0.00013366 & 0.99987\\\\\n\t5 & 709106358 & Existing Customer & 40 & M & 3 & Uneducated  & Married & \\$60K - \\$80K    & Blue   & 21 & ⋯ &  4716 &    0 &  4716 & 2.175 &  816 & 28 & 2.500 & 0.000 & 0.00002170 & 0.99998\\\\\n\t6 & 713061558 & Existing Customer & 44 & M & 2 & Graduate    & Married & \\$40K - \\$60K    & Blue   & 36 & ⋯ &  4010 & 1247 &  2763 & 1.376 & 1088 & 24 & 0.846 & 0.311 & 0.00005510 & 0.99994\\\\\n\t7 & 810347208 & Existing Customer & 51 & M & 4 & Unknown     & Married & \\$120K +        & Gold   & 46 & ⋯ & 34516 & 2264 & 32252 & 1.975 & 1330 & 31 & 0.722 & 0.066 & 0.00012303 & 0.99988\\\\\n\t8 & 818906208 & Existing Customer & 32 & M & 0 & High School & Unknown & \\$60K - \\$80K    & Silver & 27 & ⋯ & 29081 & 1396 & 27685 & 2.204 & 1538 & 36 & 0.714 & 0.048 & 0.00008580 & 0.99991\\\\\n\\end{tabular}\n",
            "text/markdown": "\nA data.frame: 8 × 23\n\n| <!--/--> | CLIENTNUM &lt;int&gt; | Attrition_Flag &lt;chr&gt; | Customer_Age &lt;int&gt; | Gender &lt;chr&gt; | Dependent_count &lt;int&gt; | Education_Level &lt;chr&gt; | Marital_Status &lt;chr&gt; | Income_Category &lt;chr&gt; | Card_Category &lt;chr&gt; | Months_on_book &lt;int&gt; | ⋯ ⋯ | Credit_Limit &lt;dbl&gt; | Total_Revolving_Bal &lt;int&gt; | Avg_Open_To_Buy &lt;dbl&gt; | Total_Amt_Chng_Q4_Q1 &lt;dbl&gt; | Total_Trans_Amt &lt;int&gt; | Total_Trans_Ct &lt;int&gt; | Total_Ct_Chng_Q4_Q1 &lt;dbl&gt; | Avg_Utilization_Ratio &lt;dbl&gt; | Naive_Bayes_Classifier_Attrition_Flag_Card_Category_Contacts_Count_12_mon_Dependent_count_Education_Level_Months_Inactive_12_mon_1 &lt;dbl&gt; | Naive_Bayes_Classifier_Attrition_Flag_Card_Category_Contacts_Count_12_mon_Dependent_count_Education_Level_Months_Inactive_12_mon_2 &lt;dbl&gt; |\n|---|---|---|---|---|---|---|---|---|---|---|---|---|---|---|---|---|---|---|---|---|---|\n| 1 | 768805383 | Existing Customer | 45 | M | 3 | High School | Married | $60K - $80K    | Blue   | 39 | ⋯ | 12691 |  777 | 11914 | 1.335 | 1144 | 42 | 1.625 | 0.061 | 0.00009340 | 0.99991 |\n| 2 | 818770008 | Existing Customer | 49 | F | 5 | Graduate    | Single  | Less than $40K | Blue   | 44 | ⋯ |  8256 |  864 |  7392 | 1.541 | 1291 | 33 | 3.714 | 0.105 | 0.00005690 | 0.99994 |\n| 3 | 713982108 | Existing Customer | 51 | M | 3 | Graduate    | Married | $80K - $120K   | Blue   | 36 | ⋯ |  3418 |    0 |  3418 | 2.594 | 1887 | 20 | 2.333 | 0.000 | 0.00002110 | 0.99998 |\n| 4 | 769911858 | Existing Customer | 40 | F | 4 | High School | Unknown | Less than $40K | Blue   | 34 | ⋯ |  3313 | 2517 |   796 | 1.405 | 1171 | 20 | 2.333 | 0.760 | 0.00013366 | 0.99987 |\n| 5 | 709106358 | Existing Customer | 40 | M | 3 | Uneducated  | Married | $60K - $80K    | Blue   | 21 | ⋯ |  4716 |    0 |  4716 | 2.175 |  816 | 28 | 2.500 | 0.000 | 0.00002170 | 0.99998 |\n| 6 | 713061558 | Existing Customer | 44 | M | 2 | Graduate    | Married | $40K - $60K    | Blue   | 36 | ⋯ |  4010 | 1247 |  2763 | 1.376 | 1088 | 24 | 0.846 | 0.311 | 0.00005510 | 0.99994 |\n| 7 | 810347208 | Existing Customer | 51 | M | 4 | Unknown     | Married | $120K +        | Gold   | 46 | ⋯ | 34516 | 2264 | 32252 | 1.975 | 1330 | 31 | 0.722 | 0.066 | 0.00012303 | 0.99988 |\n| 8 | 818906208 | Existing Customer | 32 | M | 0 | High School | Unknown | $60K - $80K    | Silver | 27 | ⋯ | 29081 | 1396 | 27685 | 2.204 | 1538 | 36 | 0.714 | 0.048 | 0.00008580 | 0.99991 |\n\n",
            "text/html": [
              "<table>\n",
              "<caption>A data.frame: 8 × 23</caption>\n",
              "<thead>\n",
              "\t<tr><th></th><th scope=col>CLIENTNUM</th><th scope=col>Attrition_Flag</th><th scope=col>Customer_Age</th><th scope=col>Gender</th><th scope=col>Dependent_count</th><th scope=col>Education_Level</th><th scope=col>Marital_Status</th><th scope=col>Income_Category</th><th scope=col>Card_Category</th><th scope=col>Months_on_book</th><th scope=col>⋯</th><th scope=col>Credit_Limit</th><th scope=col>Total_Revolving_Bal</th><th scope=col>Avg_Open_To_Buy</th><th scope=col>Total_Amt_Chng_Q4_Q1</th><th scope=col>Total_Trans_Amt</th><th scope=col>Total_Trans_Ct</th><th scope=col>Total_Ct_Chng_Q4_Q1</th><th scope=col>Avg_Utilization_Ratio</th><th scope=col>Naive_Bayes_Classifier_Attrition_Flag_Card_Category_Contacts_Count_12_mon_Dependent_count_Education_Level_Months_Inactive_12_mon_1</th><th scope=col>Naive_Bayes_Classifier_Attrition_Flag_Card_Category_Contacts_Count_12_mon_Dependent_count_Education_Level_Months_Inactive_12_mon_2</th></tr>\n",
              "\t<tr><th></th><th scope=col>&lt;int&gt;</th><th scope=col>&lt;chr&gt;</th><th scope=col>&lt;int&gt;</th><th scope=col>&lt;chr&gt;</th><th scope=col>&lt;int&gt;</th><th scope=col>&lt;chr&gt;</th><th scope=col>&lt;chr&gt;</th><th scope=col>&lt;chr&gt;</th><th scope=col>&lt;chr&gt;</th><th scope=col>&lt;int&gt;</th><th scope=col>⋯</th><th scope=col>&lt;dbl&gt;</th><th scope=col>&lt;int&gt;</th><th scope=col>&lt;dbl&gt;</th><th scope=col>&lt;dbl&gt;</th><th scope=col>&lt;int&gt;</th><th scope=col>&lt;int&gt;</th><th scope=col>&lt;dbl&gt;</th><th scope=col>&lt;dbl&gt;</th><th scope=col>&lt;dbl&gt;</th><th scope=col>&lt;dbl&gt;</th></tr>\n",
              "</thead>\n",
              "<tbody>\n",
              "\t<tr><th scope=row>1</th><td>768805383</td><td>Existing Customer</td><td>45</td><td>M</td><td>3</td><td>High School</td><td>Married</td><td>$60K - $80K   </td><td>Blue  </td><td>39</td><td>⋯</td><td>12691</td><td> 777</td><td>11914</td><td>1.335</td><td>1144</td><td>42</td><td>1.625</td><td>0.061</td><td>0.00009340</td><td>0.99991</td></tr>\n",
              "\t<tr><th scope=row>2</th><td>818770008</td><td>Existing Customer</td><td>49</td><td>F</td><td>5</td><td>Graduate   </td><td>Single </td><td>Less than $40K</td><td>Blue  </td><td>44</td><td>⋯</td><td> 8256</td><td> 864</td><td> 7392</td><td>1.541</td><td>1291</td><td>33</td><td>3.714</td><td>0.105</td><td>0.00005690</td><td>0.99994</td></tr>\n",
              "\t<tr><th scope=row>3</th><td>713982108</td><td>Existing Customer</td><td>51</td><td>M</td><td>3</td><td>Graduate   </td><td>Married</td><td>$80K - $120K  </td><td>Blue  </td><td>36</td><td>⋯</td><td> 3418</td><td>   0</td><td> 3418</td><td>2.594</td><td>1887</td><td>20</td><td>2.333</td><td>0.000</td><td>0.00002110</td><td>0.99998</td></tr>\n",
              "\t<tr><th scope=row>4</th><td>769911858</td><td>Existing Customer</td><td>40</td><td>F</td><td>4</td><td>High School</td><td>Unknown</td><td>Less than $40K</td><td>Blue  </td><td>34</td><td>⋯</td><td> 3313</td><td>2517</td><td>  796</td><td>1.405</td><td>1171</td><td>20</td><td>2.333</td><td>0.760</td><td>0.00013366</td><td>0.99987</td></tr>\n",
              "\t<tr><th scope=row>5</th><td>709106358</td><td>Existing Customer</td><td>40</td><td>M</td><td>3</td><td>Uneducated </td><td>Married</td><td>$60K - $80K   </td><td>Blue  </td><td>21</td><td>⋯</td><td> 4716</td><td>   0</td><td> 4716</td><td>2.175</td><td> 816</td><td>28</td><td>2.500</td><td>0.000</td><td>0.00002170</td><td>0.99998</td></tr>\n",
              "\t<tr><th scope=row>6</th><td>713061558</td><td>Existing Customer</td><td>44</td><td>M</td><td>2</td><td>Graduate   </td><td>Married</td><td>$40K - $60K   </td><td>Blue  </td><td>36</td><td>⋯</td><td> 4010</td><td>1247</td><td> 2763</td><td>1.376</td><td>1088</td><td>24</td><td>0.846</td><td>0.311</td><td>0.00005510</td><td>0.99994</td></tr>\n",
              "\t<tr><th scope=row>7</th><td>810347208</td><td>Existing Customer</td><td>51</td><td>M</td><td>4</td><td>Unknown    </td><td>Married</td><td>$120K +       </td><td>Gold  </td><td>46</td><td>⋯</td><td>34516</td><td>2264</td><td>32252</td><td>1.975</td><td>1330</td><td>31</td><td>0.722</td><td>0.066</td><td>0.00012303</td><td>0.99988</td></tr>\n",
              "\t<tr><th scope=row>8</th><td>818906208</td><td>Existing Customer</td><td>32</td><td>M</td><td>0</td><td>High School</td><td>Unknown</td><td>$60K - $80K   </td><td>Silver</td><td>27</td><td>⋯</td><td>29081</td><td>1396</td><td>27685</td><td>2.204</td><td>1538</td><td>36</td><td>0.714</td><td>0.048</td><td>0.00008580</td><td>0.99991</td></tr>\n",
              "</tbody>\n",
              "</table>\n"
            ]
          },
          "metadata": {
            "tags": []
          }
        }
      ]
    },
    {
      "cell_type": "markdown",
      "metadata": {
        "id": "ODw2ShC7LJ8Y"
      },
      "source": [
        "**6. Menampilkan 8 baris terakhir dari dataset**\r\n",
        "\r\n"
      ]
    },
    {
      "cell_type": "markdown",
      "metadata": {
        "id": "d-f1gsK0jP18"
      },
      "source": [
        "*Keenam, kita akan melihat 8 baris terakhir dari dataset agar kita dapat mengetahui apakah ada perbedaan dari 8 baris pertama yang sebelumnya kita lihat.*"
      ]
    },
    {
      "cell_type": "code",
      "metadata": {
        "id": "jNg3SdBEOf76",
        "colab": {
          "base_uri": "https://localhost:8080/",
          "height": 390
        },
        "outputId": "3a13b4f3-4d37-4aa6-d86f-6f9ebe309c4b"
      },
      "source": [
        "tail(bank_data,8)"
      ],
      "execution_count": 16,
      "outputs": [
        {
          "output_type": "display_data",
          "data": {
            "text/plain": [
              "      CLIENTNUM Attrition_Flag    Customer_Age Gender Dependent_count\n",
              "10120 716893683 Attrited Customer 55           F      3              \n",
              "10121 710841183 Existing Customer 54           M      1              \n",
              "10122 713899383 Existing Customer 56           F      1              \n",
              "10123 772366833 Existing Customer 50           M      2              \n",
              "10124 710638233 Attrited Customer 41           M      2              \n",
              "10125 716506083 Attrited Customer 44           F      1              \n",
              "10126 717406983 Attrited Customer 30           M      2              \n",
              "10127 714337233 Attrited Customer 43           F      2              \n",
              "      Education_Level Marital_Status Income_Category Card_Category\n",
              "10120 Uneducated      Single         Unknown         Blue         \n",
              "10121 High School     Single         $60K - $80K     Blue         \n",
              "10122 Graduate        Single         Less than $40K  Blue         \n",
              "10123 Graduate        Single         $40K - $60K     Blue         \n",
              "10124 Unknown         Divorced       $40K - $60K     Blue         \n",
              "10125 High School     Married        Less than $40K  Blue         \n",
              "10126 Graduate        Unknown        $40K - $60K     Blue         \n",
              "10127 Graduate        Married        Less than $40K  Silver       \n",
              "      Months_on_book ⋯ Credit_Limit Total_Revolving_Bal Avg_Open_To_Buy\n",
              "10120 47             ⋯ 14657        2517                12140          \n",
              "10121 34             ⋯ 13940        2109                11831          \n",
              "10122 50             ⋯  3688         606                 3082          \n",
              "10123 40             ⋯  4003        1851                 2152          \n",
              "10124 25             ⋯  4277        2186                 2091          \n",
              "10125 36             ⋯  5409           0                 5409          \n",
              "10126 36             ⋯  5281           0                 5281          \n",
              "10127 25             ⋯ 10388        1961                 8427          \n",
              "      Total_Amt_Chng_Q4_Q1 Total_Trans_Amt Total_Trans_Ct Total_Ct_Chng_Q4_Q1\n",
              "10120 0.166                 6009            53            0.514              \n",
              "10121 0.660                15577           114            0.754              \n",
              "10122 0.570                14596           120            0.791              \n",
              "10123 0.703                15476           117            0.857              \n",
              "10124 0.804                 8764            69            0.683              \n",
              "10125 0.819                10291            60            0.818              \n",
              "10126 0.535                 8395            62            0.722              \n",
              "10127 0.703                10294            61            0.649              \n",
              "      Avg_Utilization_Ratio\n",
              "10120 0.172                \n",
              "10121 0.151                \n",
              "10122 0.164                \n",
              "10123 0.462                \n",
              "10124 0.511                \n",
              "10125 0.000                \n",
              "10126 0.000                \n",
              "10127 0.189                \n",
              "      Naive_Bayes_Classifier_Attrition_Flag_Card_Category_Contacts_Count_12_mon_Dependent_count_Education_Level_Months_Inactive_12_mon_1\n",
              "10120 0.99691000                                                                                                                        \n",
              "10121 0.00003830                                                                                                                        \n",
              "10122 0.00014834                                                                                                                        \n",
              "10123 0.00019143                                                                                                                        \n",
              "10124 0.99527000                                                                                                                        \n",
              "10125 0.99788000                                                                                                                        \n",
              "10126 0.99671000                                                                                                                        \n",
              "10127 0.99662000                                                                                                                        \n",
              "      Naive_Bayes_Classifier_Attrition_Flag_Card_Category_Contacts_Count_12_mon_Dependent_count_Education_Level_Months_Inactive_12_mon_2\n",
              "10120 0.00308778                                                                                                                        \n",
              "10121 0.99996000                                                                                                                        \n",
              "10122 0.99985000                                                                                                                        \n",
              "10123 0.99981000                                                                                                                        \n",
              "10124 0.00472896                                                                                                                        \n",
              "10125 0.00211827                                                                                                                        \n",
              "10126 0.00329379                                                                                                                        \n",
              "10127 0.00337654                                                                                                                        "
            ],
            "text/latex": "A data.frame: 8 × 23\n\\begin{tabular}{r|lllllllllllllllllllll}\n  & CLIENTNUM & Attrition\\_Flag & Customer\\_Age & Gender & Dependent\\_count & Education\\_Level & Marital\\_Status & Income\\_Category & Card\\_Category & Months\\_on\\_book & ⋯ & Credit\\_Limit & Total\\_Revolving\\_Bal & Avg\\_Open\\_To\\_Buy & Total\\_Amt\\_Chng\\_Q4\\_Q1 & Total\\_Trans\\_Amt & Total\\_Trans\\_Ct & Total\\_Ct\\_Chng\\_Q4\\_Q1 & Avg\\_Utilization\\_Ratio & Naive\\_Bayes\\_Classifier\\_Attrition\\_Flag\\_Card\\_Category\\_Contacts\\_Count\\_12\\_mon\\_Dependent\\_count\\_Education\\_Level\\_Months\\_Inactive\\_12\\_mon\\_1 & Naive\\_Bayes\\_Classifier\\_Attrition\\_Flag\\_Card\\_Category\\_Contacts\\_Count\\_12\\_mon\\_Dependent\\_count\\_Education\\_Level\\_Months\\_Inactive\\_12\\_mon\\_2\\\\\n  & <int> & <chr> & <int> & <chr> & <int> & <chr> & <chr> & <chr> & <chr> & <int> & ⋯ & <dbl> & <int> & <dbl> & <dbl> & <int> & <int> & <dbl> & <dbl> & <dbl> & <dbl>\\\\\n\\hline\n\t10120 & 716893683 & Attrited Customer & 55 & F & 3 & Uneducated  & Single   & Unknown        & Blue   & 47 & ⋯ & 14657 & 2517 & 12140 & 0.166 &  6009 &  53 & 0.514 & 0.172 & 0.99691000 & 0.00308778\\\\\n\t10121 & 710841183 & Existing Customer & 54 & M & 1 & High School & Single   & \\$60K - \\$80K    & Blue   & 34 & ⋯ & 13940 & 2109 & 11831 & 0.660 & 15577 & 114 & 0.754 & 0.151 & 0.00003830 & 0.99996000\\\\\n\t10122 & 713899383 & Existing Customer & 56 & F & 1 & Graduate    & Single   & Less than \\$40K & Blue   & 50 & ⋯ &  3688 &  606 &  3082 & 0.570 & 14596 & 120 & 0.791 & 0.164 & 0.00014834 & 0.99985000\\\\\n\t10123 & 772366833 & Existing Customer & 50 & M & 2 & Graduate    & Single   & \\$40K - \\$60K    & Blue   & 40 & ⋯ &  4003 & 1851 &  2152 & 0.703 & 15476 & 117 & 0.857 & 0.462 & 0.00019143 & 0.99981000\\\\\n\t10124 & 710638233 & Attrited Customer & 41 & M & 2 & Unknown     & Divorced & \\$40K - \\$60K    & Blue   & 25 & ⋯ &  4277 & 2186 &  2091 & 0.804 &  8764 &  69 & 0.683 & 0.511 & 0.99527000 & 0.00472896\\\\\n\t10125 & 716506083 & Attrited Customer & 44 & F & 1 & High School & Married  & Less than \\$40K & Blue   & 36 & ⋯ &  5409 &    0 &  5409 & 0.819 & 10291 &  60 & 0.818 & 0.000 & 0.99788000 & 0.00211827\\\\\n\t10126 & 717406983 & Attrited Customer & 30 & M & 2 & Graduate    & Unknown  & \\$40K - \\$60K    & Blue   & 36 & ⋯ &  5281 &    0 &  5281 & 0.535 &  8395 &  62 & 0.722 & 0.000 & 0.99671000 & 0.00329379\\\\\n\t10127 & 714337233 & Attrited Customer & 43 & F & 2 & Graduate    & Married  & Less than \\$40K & Silver & 25 & ⋯ & 10388 & 1961 &  8427 & 0.703 & 10294 &  61 & 0.649 & 0.189 & 0.99662000 & 0.00337654\\\\\n\\end{tabular}\n",
            "text/markdown": "\nA data.frame: 8 × 23\n\n| <!--/--> | CLIENTNUM &lt;int&gt; | Attrition_Flag &lt;chr&gt; | Customer_Age &lt;int&gt; | Gender &lt;chr&gt; | Dependent_count &lt;int&gt; | Education_Level &lt;chr&gt; | Marital_Status &lt;chr&gt; | Income_Category &lt;chr&gt; | Card_Category &lt;chr&gt; | Months_on_book &lt;int&gt; | ⋯ ⋯ | Credit_Limit &lt;dbl&gt; | Total_Revolving_Bal &lt;int&gt; | Avg_Open_To_Buy &lt;dbl&gt; | Total_Amt_Chng_Q4_Q1 &lt;dbl&gt; | Total_Trans_Amt &lt;int&gt; | Total_Trans_Ct &lt;int&gt; | Total_Ct_Chng_Q4_Q1 &lt;dbl&gt; | Avg_Utilization_Ratio &lt;dbl&gt; | Naive_Bayes_Classifier_Attrition_Flag_Card_Category_Contacts_Count_12_mon_Dependent_count_Education_Level_Months_Inactive_12_mon_1 &lt;dbl&gt; | Naive_Bayes_Classifier_Attrition_Flag_Card_Category_Contacts_Count_12_mon_Dependent_count_Education_Level_Months_Inactive_12_mon_2 &lt;dbl&gt; |\n|---|---|---|---|---|---|---|---|---|---|---|---|---|---|---|---|---|---|---|---|---|---|\n| 10120 | 716893683 | Attrited Customer | 55 | F | 3 | Uneducated  | Single   | Unknown        | Blue   | 47 | ⋯ | 14657 | 2517 | 12140 | 0.166 |  6009 |  53 | 0.514 | 0.172 | 0.99691000 | 0.00308778 |\n| 10121 | 710841183 | Existing Customer | 54 | M | 1 | High School | Single   | $60K - $80K    | Blue   | 34 | ⋯ | 13940 | 2109 | 11831 | 0.660 | 15577 | 114 | 0.754 | 0.151 | 0.00003830 | 0.99996000 |\n| 10122 | 713899383 | Existing Customer | 56 | F | 1 | Graduate    | Single   | Less than $40K | Blue   | 50 | ⋯ |  3688 |  606 |  3082 | 0.570 | 14596 | 120 | 0.791 | 0.164 | 0.00014834 | 0.99985000 |\n| 10123 | 772366833 | Existing Customer | 50 | M | 2 | Graduate    | Single   | $40K - $60K    | Blue   | 40 | ⋯ |  4003 | 1851 |  2152 | 0.703 | 15476 | 117 | 0.857 | 0.462 | 0.00019143 | 0.99981000 |\n| 10124 | 710638233 | Attrited Customer | 41 | M | 2 | Unknown     | Divorced | $40K - $60K    | Blue   | 25 | ⋯ |  4277 | 2186 |  2091 | 0.804 |  8764 |  69 | 0.683 | 0.511 | 0.99527000 | 0.00472896 |\n| 10125 | 716506083 | Attrited Customer | 44 | F | 1 | High School | Married  | Less than $40K | Blue   | 36 | ⋯ |  5409 |    0 |  5409 | 0.819 | 10291 |  60 | 0.818 | 0.000 | 0.99788000 | 0.00211827 |\n| 10126 | 717406983 | Attrited Customer | 30 | M | 2 | Graduate    | Unknown  | $40K - $60K    | Blue   | 36 | ⋯ |  5281 |    0 |  5281 | 0.535 |  8395 |  62 | 0.722 | 0.000 | 0.99671000 | 0.00329379 |\n| 10127 | 714337233 | Attrited Customer | 43 | F | 2 | Graduate    | Married  | Less than $40K | Silver | 25 | ⋯ | 10388 | 1961 |  8427 | 0.703 | 10294 |  61 | 0.649 | 0.189 | 0.99662000 | 0.00337654 |\n\n",
            "text/html": [
              "<table>\n",
              "<caption>A data.frame: 8 × 23</caption>\n",
              "<thead>\n",
              "\t<tr><th></th><th scope=col>CLIENTNUM</th><th scope=col>Attrition_Flag</th><th scope=col>Customer_Age</th><th scope=col>Gender</th><th scope=col>Dependent_count</th><th scope=col>Education_Level</th><th scope=col>Marital_Status</th><th scope=col>Income_Category</th><th scope=col>Card_Category</th><th scope=col>Months_on_book</th><th scope=col>⋯</th><th scope=col>Credit_Limit</th><th scope=col>Total_Revolving_Bal</th><th scope=col>Avg_Open_To_Buy</th><th scope=col>Total_Amt_Chng_Q4_Q1</th><th scope=col>Total_Trans_Amt</th><th scope=col>Total_Trans_Ct</th><th scope=col>Total_Ct_Chng_Q4_Q1</th><th scope=col>Avg_Utilization_Ratio</th><th scope=col>Naive_Bayes_Classifier_Attrition_Flag_Card_Category_Contacts_Count_12_mon_Dependent_count_Education_Level_Months_Inactive_12_mon_1</th><th scope=col>Naive_Bayes_Classifier_Attrition_Flag_Card_Category_Contacts_Count_12_mon_Dependent_count_Education_Level_Months_Inactive_12_mon_2</th></tr>\n",
              "\t<tr><th></th><th scope=col>&lt;int&gt;</th><th scope=col>&lt;chr&gt;</th><th scope=col>&lt;int&gt;</th><th scope=col>&lt;chr&gt;</th><th scope=col>&lt;int&gt;</th><th scope=col>&lt;chr&gt;</th><th scope=col>&lt;chr&gt;</th><th scope=col>&lt;chr&gt;</th><th scope=col>&lt;chr&gt;</th><th scope=col>&lt;int&gt;</th><th scope=col>⋯</th><th scope=col>&lt;dbl&gt;</th><th scope=col>&lt;int&gt;</th><th scope=col>&lt;dbl&gt;</th><th scope=col>&lt;dbl&gt;</th><th scope=col>&lt;int&gt;</th><th scope=col>&lt;int&gt;</th><th scope=col>&lt;dbl&gt;</th><th scope=col>&lt;dbl&gt;</th><th scope=col>&lt;dbl&gt;</th><th scope=col>&lt;dbl&gt;</th></tr>\n",
              "</thead>\n",
              "<tbody>\n",
              "\t<tr><th scope=row>10120</th><td>716893683</td><td>Attrited Customer</td><td>55</td><td>F</td><td>3</td><td>Uneducated </td><td>Single  </td><td>Unknown       </td><td>Blue  </td><td>47</td><td>⋯</td><td>14657</td><td>2517</td><td>12140</td><td>0.166</td><td> 6009</td><td> 53</td><td>0.514</td><td>0.172</td><td>0.99691000</td><td>0.00308778</td></tr>\n",
              "\t<tr><th scope=row>10121</th><td>710841183</td><td>Existing Customer</td><td>54</td><td>M</td><td>1</td><td>High School</td><td>Single  </td><td>$60K - $80K   </td><td>Blue  </td><td>34</td><td>⋯</td><td>13940</td><td>2109</td><td>11831</td><td>0.660</td><td>15577</td><td>114</td><td>0.754</td><td>0.151</td><td>0.00003830</td><td>0.99996000</td></tr>\n",
              "\t<tr><th scope=row>10122</th><td>713899383</td><td>Existing Customer</td><td>56</td><td>F</td><td>1</td><td>Graduate   </td><td>Single  </td><td>Less than $40K</td><td>Blue  </td><td>50</td><td>⋯</td><td> 3688</td><td> 606</td><td> 3082</td><td>0.570</td><td>14596</td><td>120</td><td>0.791</td><td>0.164</td><td>0.00014834</td><td>0.99985000</td></tr>\n",
              "\t<tr><th scope=row>10123</th><td>772366833</td><td>Existing Customer</td><td>50</td><td>M</td><td>2</td><td>Graduate   </td><td>Single  </td><td>$40K - $60K   </td><td>Blue  </td><td>40</td><td>⋯</td><td> 4003</td><td>1851</td><td> 2152</td><td>0.703</td><td>15476</td><td>117</td><td>0.857</td><td>0.462</td><td>0.00019143</td><td>0.99981000</td></tr>\n",
              "\t<tr><th scope=row>10124</th><td>710638233</td><td>Attrited Customer</td><td>41</td><td>M</td><td>2</td><td>Unknown    </td><td>Divorced</td><td>$40K - $60K   </td><td>Blue  </td><td>25</td><td>⋯</td><td> 4277</td><td>2186</td><td> 2091</td><td>0.804</td><td> 8764</td><td> 69</td><td>0.683</td><td>0.511</td><td>0.99527000</td><td>0.00472896</td></tr>\n",
              "\t<tr><th scope=row>10125</th><td>716506083</td><td>Attrited Customer</td><td>44</td><td>F</td><td>1</td><td>High School</td><td>Married </td><td>Less than $40K</td><td>Blue  </td><td>36</td><td>⋯</td><td> 5409</td><td>   0</td><td> 5409</td><td>0.819</td><td>10291</td><td> 60</td><td>0.818</td><td>0.000</td><td>0.99788000</td><td>0.00211827</td></tr>\n",
              "\t<tr><th scope=row>10126</th><td>717406983</td><td>Attrited Customer</td><td>30</td><td>M</td><td>2</td><td>Graduate   </td><td>Unknown </td><td>$40K - $60K   </td><td>Blue  </td><td>36</td><td>⋯</td><td> 5281</td><td>   0</td><td> 5281</td><td>0.535</td><td> 8395</td><td> 62</td><td>0.722</td><td>0.000</td><td>0.99671000</td><td>0.00329379</td></tr>\n",
              "\t<tr><th scope=row>10127</th><td>714337233</td><td>Attrited Customer</td><td>43</td><td>F</td><td>2</td><td>Graduate   </td><td>Married </td><td>Less than $40K</td><td>Silver</td><td>25</td><td>⋯</td><td>10388</td><td>1961</td><td> 8427</td><td>0.703</td><td>10294</td><td> 61</td><td>0.649</td><td>0.189</td><td>0.99662000</td><td>0.00337654</td></tr>\n",
              "</tbody>\n",
              "</table>\n"
            ]
          },
          "metadata": {
            "tags": []
          }
        }
      ]
    },
    {
      "cell_type": "markdown",
      "metadata": {
        "id": "bBnGc6_ekONa"
      },
      "source": [
        "*Dapat dilihat bahwa data dari 8 baris pertama dengan 8 baris terakhir tidak berbeda, variabel masih terisi semua.*"
      ]
    },
    {
      "cell_type": "markdown",
      "metadata": {
        "id": "NAAXp4brRaxj"
      },
      "source": [
        "**7. Menampilkan jumlah data yang hilang**"
      ]
    },
    {
      "cell_type": "code",
      "metadata": {
        "id": "xRvZv0WNRQv4",
        "colab": {
          "base_uri": "https://localhost:8080/",
          "height": 101
        },
        "outputId": "6b121b27-3d11-48c3-8a6b-26af7899e8d0"
      },
      "source": [
        "colSums(is.na(bank_data))"
      ],
      "execution_count": 18,
      "outputs": [
        {
          "output_type": "display_data",
          "data": {
            "text/plain": [
              "                                                                                                                         CLIENTNUM \n",
              "                                                                                                                                 0 \n",
              "                                                                                                                    Attrition_Flag \n",
              "                                                                                                                                 0 \n",
              "                                                                                                                      Customer_Age \n",
              "                                                                                                                                 0 \n",
              "                                                                                                                            Gender \n",
              "                                                                                                                                 0 \n",
              "                                                                                                                   Dependent_count \n",
              "                                                                                                                                 0 \n",
              "                                                                                                                   Education_Level \n",
              "                                                                                                                                 0 \n",
              "                                                                                                                    Marital_Status \n",
              "                                                                                                                                 0 \n",
              "                                                                                                                   Income_Category \n",
              "                                                                                                                                 0 \n",
              "                                                                                                                     Card_Category \n",
              "                                                                                                                                 0 \n",
              "                                                                                                                    Months_on_book \n",
              "                                                                                                                                 0 \n",
              "                                                                                                          Total_Relationship_Count \n",
              "                                                                                                                                 0 \n",
              "                                                                                                            Months_Inactive_12_mon \n",
              "                                                                                                                                 0 \n",
              "                                                                                                             Contacts_Count_12_mon \n",
              "                                                                                                                                 0 \n",
              "                                                                                                                      Credit_Limit \n",
              "                                                                                                                                 0 \n",
              "                                                                                                               Total_Revolving_Bal \n",
              "                                                                                                                                 0 \n",
              "                                                                                                                   Avg_Open_To_Buy \n",
              "                                                                                                                                 0 \n",
              "                                                                                                              Total_Amt_Chng_Q4_Q1 \n",
              "                                                                                                                                 0 \n",
              "                                                                                                                   Total_Trans_Amt \n",
              "                                                                                                                                 0 \n",
              "                                                                                                                    Total_Trans_Ct \n",
              "                                                                                                                                 0 \n",
              "                                                                                                               Total_Ct_Chng_Q4_Q1 \n",
              "                                                                                                                                 0 \n",
              "                                                                                                             Avg_Utilization_Ratio \n",
              "                                                                                                                                 0 \n",
              "Naive_Bayes_Classifier_Attrition_Flag_Card_Category_Contacts_Count_12_mon_Dependent_count_Education_Level_Months_Inactive_12_mon_1 \n",
              "                                                                                                                                 0 \n",
              "Naive_Bayes_Classifier_Attrition_Flag_Card_Category_Contacts_Count_12_mon_Dependent_count_Education_Level_Months_Inactive_12_mon_2 \n",
              "                                                                                                                                 0 "
            ],
            "text/latex": "\\begin{description*}\n\\item[CLIENTNUM] 0\n\\item[Attrition\\textbackslash{}\\_Flag] 0\n\\item[Customer\\textbackslash{}\\_Age] 0\n\\item[Gender] 0\n\\item[Dependent\\textbackslash{}\\_count] 0\n\\item[Education\\textbackslash{}\\_Level] 0\n\\item[Marital\\textbackslash{}\\_Status] 0\n\\item[Income\\textbackslash{}\\_Category] 0\n\\item[Card\\textbackslash{}\\_Category] 0\n\\item[Months\\textbackslash{}\\_on\\textbackslash{}\\_book] 0\n\\item[Total\\textbackslash{}\\_Relationship\\textbackslash{}\\_Count] 0\n\\item[Months\\textbackslash{}\\_Inactive\\textbackslash{}\\_12\\textbackslash{}\\_mon] 0\n\\item[Contacts\\textbackslash{}\\_Count\\textbackslash{}\\_12\\textbackslash{}\\_mon] 0\n\\item[Credit\\textbackslash{}\\_Limit] 0\n\\item[Total\\textbackslash{}\\_Revolving\\textbackslash{}\\_Bal] 0\n\\item[Avg\\textbackslash{}\\_Open\\textbackslash{}\\_To\\textbackslash{}\\_Buy] 0\n\\item[Total\\textbackslash{}\\_Amt\\textbackslash{}\\_Chng\\textbackslash{}\\_Q4\\textbackslash{}\\_Q1] 0\n\\item[Total\\textbackslash{}\\_Trans\\textbackslash{}\\_Amt] 0\n\\item[Total\\textbackslash{}\\_Trans\\textbackslash{}\\_Ct] 0\n\\item[Total\\textbackslash{}\\_Ct\\textbackslash{}\\_Chng\\textbackslash{}\\_Q4\\textbackslash{}\\_Q1] 0\n\\item[Avg\\textbackslash{}\\_Utilization\\textbackslash{}\\_Ratio] 0\n\\item[Naive\\textbackslash{}\\_Bayes\\textbackslash{}\\_Classifier\\textbackslash{}\\_Attrition\\textbackslash{}\\_Flag\\textbackslash{}\\_Card\\textbackslash{}\\_Category\\textbackslash{}\\_Contacts\\textbackslash{}\\_Count\\textbackslash{}\\_12\\textbackslash{}\\_mon\\textbackslash{}\\_Dependent\\textbackslash{}\\_count\\textbackslash{}\\_Education\\textbackslash{}\\_Level\\textbackslash{}\\_Months\\textbackslash{}\\_Inactive\\textbackslash{}\\_12\\textbackslash{}\\_mon\\textbackslash{}\\_1] 0\n\\item[Naive\\textbackslash{}\\_Bayes\\textbackslash{}\\_Classifier\\textbackslash{}\\_Attrition\\textbackslash{}\\_Flag\\textbackslash{}\\_Card\\textbackslash{}\\_Category\\textbackslash{}\\_Contacts\\textbackslash{}\\_Count\\textbackslash{}\\_12\\textbackslash{}\\_mon\\textbackslash{}\\_Dependent\\textbackslash{}\\_count\\textbackslash{}\\_Education\\textbackslash{}\\_Level\\textbackslash{}\\_Months\\textbackslash{}\\_Inactive\\textbackslash{}\\_12\\textbackslash{}\\_mon\\textbackslash{}\\_2] 0\n\\end{description*}\n",
            "text/markdown": "CLIENTNUM\n:   0Attrition_Flag\n:   0Customer_Age\n:   0Gender\n:   0Dependent_count\n:   0Education_Level\n:   0Marital_Status\n:   0Income_Category\n:   0Card_Category\n:   0Months_on_book\n:   0Total_Relationship_Count\n:   0Months_Inactive_12_mon\n:   0Contacts_Count_12_mon\n:   0Credit_Limit\n:   0Total_Revolving_Bal\n:   0Avg_Open_To_Buy\n:   0Total_Amt_Chng_Q4_Q1\n:   0Total_Trans_Amt\n:   0Total_Trans_Ct\n:   0Total_Ct_Chng_Q4_Q1\n:   0Avg_Utilization_Ratio\n:   0Naive_Bayes_Classifier_Attrition_Flag_Card_Category_Contacts_Count_12_mon_Dependent_count_Education_Level_Months_Inactive_12_mon_1\n:   0Naive_Bayes_Classifier_Attrition_Flag_Card_Category_Contacts_Count_12_mon_Dependent_count_Education_Level_Months_Inactive_12_mon_2\n:   0\n\n",
            "text/html": [
              "<style>\n",
              ".dl-inline {width: auto; margin:0; padding: 0}\n",
              ".dl-inline>dt, .dl-inline>dd {float: none; width: auto; display: inline-block}\n",
              ".dl-inline>dt::after {content: \":\\0020\"; padding-right: .5ex}\n",
              ".dl-inline>dt:not(:first-of-type) {padding-left: .5ex}\n",
              "</style><dl class=dl-inline><dt>CLIENTNUM</dt><dd>0</dd><dt>Attrition_Flag</dt><dd>0</dd><dt>Customer_Age</dt><dd>0</dd><dt>Gender</dt><dd>0</dd><dt>Dependent_count</dt><dd>0</dd><dt>Education_Level</dt><dd>0</dd><dt>Marital_Status</dt><dd>0</dd><dt>Income_Category</dt><dd>0</dd><dt>Card_Category</dt><dd>0</dd><dt>Months_on_book</dt><dd>0</dd><dt>Total_Relationship_Count</dt><dd>0</dd><dt>Months_Inactive_12_mon</dt><dd>0</dd><dt>Contacts_Count_12_mon</dt><dd>0</dd><dt>Credit_Limit</dt><dd>0</dd><dt>Total_Revolving_Bal</dt><dd>0</dd><dt>Avg_Open_To_Buy</dt><dd>0</dd><dt>Total_Amt_Chng_Q4_Q1</dt><dd>0</dd><dt>Total_Trans_Amt</dt><dd>0</dd><dt>Total_Trans_Ct</dt><dd>0</dd><dt>Total_Ct_Chng_Q4_Q1</dt><dd>0</dd><dt>Avg_Utilization_Ratio</dt><dd>0</dd><dt>Naive_Bayes_Classifier_Attrition_Flag_Card_Category_Contacts_Count_12_mon_Dependent_count_Education_Level_Months_Inactive_12_mon_1</dt><dd>0</dd><dt>Naive_Bayes_Classifier_Attrition_Flag_Card_Category_Contacts_Count_12_mon_Dependent_count_Education_Level_Months_Inactive_12_mon_2</dt><dd>0</dd></dl>\n"
            ]
          },
          "metadata": {
            "tags": []
          }
        }
      ]
    },
    {
      "cell_type": "markdown",
      "metadata": {
        "id": "NGJ9fCdjM7NF"
      },
      "source": [
        "*Kita bisa lihat bahwa tidak ada data yang hilang di dalam variabel dataset ini atau dapat dikatakan semua variabel memiliki data yang valid.*\r\n",
        "\r\n"
      ]
    },
    {
      "cell_type": "markdown",
      "metadata": {
        "id": "UY_O6118Rwq4"
      },
      "source": [
        "**8. Hitung deskripsi statistik**"
      ]
    },
    {
      "cell_type": "code",
      "metadata": {
        "id": "DIxeDZNcR5sG",
        "colab": {
          "base_uri": "https://localhost:8080/",
          "height": 316
        },
        "outputId": "a2dbed98-1f94-435f-d353-fddaf870b658"
      },
      "source": [
        "data.frame(unclass(summary(bank_data)))"
      ],
      "execution_count": 33,
      "outputs": [
        {
          "output_type": "display_data",
          "data": {
            "text/plain": [
              "    X..CLIENTNUM        Attrition_Flag     X.Customer_Age  X...Gender        \n",
              "X   Min.   :708082083   Length:10127       Min.   :26.00   Length:10127      \n",
              "X.1 1st Qu.:713036770   Class :character   1st Qu.:41.00   Class :character  \n",
              "X.2 Median :717926358   Mode  :character   Median :46.00   Mode  :character  \n",
              "X.3 Mean   :739177606   NA                 Mean   :46.33   NA                \n",
              "X.4 3rd Qu.:773143533   NA                 3rd Qu.:52.00   NA                \n",
              "X.5 Max.   :828343083   NA                 Max.   :73.00   NA                \n",
              "    Dependent_count Education_Level    Marital_Status     Income_Category   \n",
              "X   Min.   :0.000   Length:10127       Length:10127       Length:10127      \n",
              "X.1 1st Qu.:1.000   Class :character   Class :character   Class :character  \n",
              "X.2 Median :2.000   Mode  :character   Mode  :character   Mode  :character  \n",
              "X.3 Mean   :2.346   NA                 NA                 NA                \n",
              "X.4 3rd Qu.:3.000   NA                 NA                 NA                \n",
              "X.5 Max.   :5.000   NA                 NA                 NA                \n",
              "    Card_Category      Months_on_book  ⋯ X.Credit_Limit  Total_Revolving_Bal\n",
              "X   Length:10127       Min.   :13.00   ⋯ Min.   : 1438   Min.   :   0       \n",
              "X.1 Class :character   1st Qu.:31.00   ⋯ 1st Qu.: 2555   1st Qu.: 359       \n",
              "X.2 Mode  :character   Median :36.00   ⋯ Median : 4549   Median :1276       \n",
              "X.3 NA                 Mean   :35.93   ⋯ Mean   : 8632   Mean   :1163       \n",
              "X.4 NA                 3rd Qu.:40.00   ⋯ 3rd Qu.:11068   3rd Qu.:1784       \n",
              "X.5 NA                 Max.   :56.00   ⋯ Max.   :34516   Max.   :2517       \n",
              "    Avg_Open_To_Buy Total_Amt_Chng_Q4_Q1 Total_Trans_Amt Total_Trans_Ct  \n",
              "X   Min.   :    3   Min.   :0.0000       Min.   :  510   Min.   : 10.00  \n",
              "X.1 1st Qu.: 1324   1st Qu.:0.6310       1st Qu.: 2156   1st Qu.: 45.00  \n",
              "X.2 Median : 3474   Median :0.7360       Median : 3899   Median : 67.00  \n",
              "X.3 Mean   : 7469   Mean   :0.7599       Mean   : 4404   Mean   : 64.86  \n",
              "X.4 3rd Qu.: 9859   3rd Qu.:0.8590       3rd Qu.: 4741   3rd Qu.: 81.00  \n",
              "X.5 Max.   :34516   Max.   :3.3970       Max.   :18484   Max.   :139.00  \n",
              "    Total_Ct_Chng_Q4_Q1 Avg_Utilization_Ratio\n",
              "X   Min.   :0.0000      Min.   :0.0000       \n",
              "X.1 1st Qu.:0.5820      1st Qu.:0.0230       \n",
              "X.2 Median :0.7020      Median :0.1760       \n",
              "X.3 Mean   :0.7122      Mean   :0.2749       \n",
              "X.4 3rd Qu.:0.8180      3rd Qu.:0.5030       \n",
              "X.5 Max.   :3.7140      Max.   :0.9990       \n",
              "    Naive_Bayes_Classifier_Attrition_Flag_Card_Category_Contacts_Count_12_mon_Dependent_count_Education_Level_Months_Inactive_12_mon_1\n",
              "X   Min.   :0.0000077                                                                                                                 \n",
              "X.1 1st Qu.:0.0000990                                                                                                                 \n",
              "X.2 Median :0.0001815                                                                                                                 \n",
              "X.3 Mean   :0.1599975                                                                                                                 \n",
              "X.4 3rd Qu.:0.0003373                                                                                                                 \n",
              "X.5 Max.   :0.9995800                                                                                                                 \n",
              "    Naive_Bayes_Classifier_Attrition_Flag_Card_Category_Contacts_Count_12_mon_Dependent_count_Education_Level_Months_Inactive_12_mon_2\n",
              "X   Min.   :0.00042                                                                                                                   \n",
              "X.1 1st Qu.:0.99966                                                                                                                   \n",
              "X.2 Median :0.99982                                                                                                                   \n",
              "X.3 Mean   :0.84000                                                                                                                   \n",
              "X.4 3rd Qu.:0.99990                                                                                                                   \n",
              "X.5 Max.   :0.99999                                                                                                                   "
            ],
            "text/latex": "A data.frame: 6 × 23\n\\begin{tabular}{r|lllllllllllllllllllll}\n  & X..CLIENTNUM & Attrition\\_Flag & X.Customer\\_Age & X...Gender & Dependent\\_count & Education\\_Level & Marital\\_Status & Income\\_Category & Card\\_Category & Months\\_on\\_book & ⋯ & X.Credit\\_Limit & Total\\_Revolving\\_Bal & Avg\\_Open\\_To\\_Buy & Total\\_Amt\\_Chng\\_Q4\\_Q1 & Total\\_Trans\\_Amt & Total\\_Trans\\_Ct & Total\\_Ct\\_Chng\\_Q4\\_Q1 & Avg\\_Utilization\\_Ratio & Naive\\_Bayes\\_Classifier\\_Attrition\\_Flag\\_Card\\_Category\\_Contacts\\_Count\\_12\\_mon\\_Dependent\\_count\\_Education\\_Level\\_Months\\_Inactive\\_12\\_mon\\_1 & Naive\\_Bayes\\_Classifier\\_Attrition\\_Flag\\_Card\\_Category\\_Contacts\\_Count\\_12\\_mon\\_Dependent\\_count\\_Education\\_Level\\_Months\\_Inactive\\_12\\_mon\\_2\\\\\n  & <chr> & <chr> & <chr> & <chr> & <chr> & <chr> & <chr> & <chr> & <chr> & <chr> & ⋯ & <chr> & <chr> & <chr> & <chr> & <chr> & <chr> & <chr> & <chr> & <chr> & <chr>\\\\\n\\hline\n\tX & Min.   :708082083   & Length:10127       & Min.   :26.00   & Length:10127       & Min.   :0.000   & Length:10127       & Length:10127       & Length:10127       & Length:10127       & Min.   :13.00   & ⋯ & Min.   : 1438   & Min.   :   0   & Min.   :    3   & Min.   :0.0000   & Min.   :  510   & Min.   : 10.00   & Min.   :0.0000   & Min.   :0.0000   & Min.   :0.0000077   & Min.   :0.00042  \\\\\n\tX.1 & 1st Qu.:713036770   & Class :character   & 1st Qu.:41.00   & Class :character   & 1st Qu.:1.000   & Class :character   & Class :character   & Class :character   & Class :character   & 1st Qu.:31.00   & ⋯ & 1st Qu.: 2555   & 1st Qu.: 359   & 1st Qu.: 1324   & 1st Qu.:0.6310   & 1st Qu.: 2156   & 1st Qu.: 45.00   & 1st Qu.:0.5820   & 1st Qu.:0.0230   & 1st Qu.:0.0000990   & 1st Qu.:0.99966  \\\\\n\tX.2 & Median :717926358   & Mode  :character   & Median :46.00   & Mode  :character   & Median :2.000   & Mode  :character   & Mode  :character   & Mode  :character   & Mode  :character   & Median :36.00   & ⋯ & Median : 4549   & Median :1276   & Median : 3474   & Median :0.7360   & Median : 3899   & Median : 67.00   & Median :0.7020   & Median :0.1760   & Median :0.0001815   & Median :0.99982  \\\\\n\tX.3 & Mean   :739177606   & NA                 & Mean   :46.33   & NA                 & Mean   :2.346   & NA                 & NA                 & NA                 & NA                 & Mean   :35.93   & ⋯ & Mean   : 8632   & Mean   :1163   & Mean   : 7469   & Mean   :0.7599   & Mean   : 4404   & Mean   : 64.86   & Mean   :0.7122   & Mean   :0.2749   & Mean   :0.1599975   & Mean   :0.84000  \\\\\n\tX.4 & 3rd Qu.:773143533   & NA                 & 3rd Qu.:52.00   & NA                 & 3rd Qu.:3.000   & NA                 & NA                 & NA                 & NA                 & 3rd Qu.:40.00   & ⋯ & 3rd Qu.:11068   & 3rd Qu.:1784   & 3rd Qu.: 9859   & 3rd Qu.:0.8590   & 3rd Qu.: 4741   & 3rd Qu.: 81.00   & 3rd Qu.:0.8180   & 3rd Qu.:0.5030   & 3rd Qu.:0.0003373   & 3rd Qu.:0.99990  \\\\\n\tX.5 & Max.   :828343083   & NA                 & Max.   :73.00   & NA                 & Max.   :5.000   & NA                 & NA                 & NA                 & NA                 & Max.   :56.00   & ⋯ & Max.   :34516   & Max.   :2517   & Max.   :34516   & Max.   :3.3970   & Max.   :18484   & Max.   :139.00   & Max.   :3.7140   & Max.   :0.9990   & Max.   :0.9995800   & Max.   :0.99999  \\\\\n\\end{tabular}\n",
            "text/markdown": "\nA data.frame: 6 × 23\n\n| <!--/--> | X..CLIENTNUM &lt;chr&gt; | Attrition_Flag &lt;chr&gt; | X.Customer_Age &lt;chr&gt; | X...Gender &lt;chr&gt; | Dependent_count &lt;chr&gt; | Education_Level &lt;chr&gt; | Marital_Status &lt;chr&gt; | Income_Category &lt;chr&gt; | Card_Category &lt;chr&gt; | Months_on_book &lt;chr&gt; | ⋯ ⋯ | X.Credit_Limit &lt;chr&gt; | Total_Revolving_Bal &lt;chr&gt; | Avg_Open_To_Buy &lt;chr&gt; | Total_Amt_Chng_Q4_Q1 &lt;chr&gt; | Total_Trans_Amt &lt;chr&gt; | Total_Trans_Ct &lt;chr&gt; | Total_Ct_Chng_Q4_Q1 &lt;chr&gt; | Avg_Utilization_Ratio &lt;chr&gt; | Naive_Bayes_Classifier_Attrition_Flag_Card_Category_Contacts_Count_12_mon_Dependent_count_Education_Level_Months_Inactive_12_mon_1 &lt;chr&gt; | Naive_Bayes_Classifier_Attrition_Flag_Card_Category_Contacts_Count_12_mon_Dependent_count_Education_Level_Months_Inactive_12_mon_2 &lt;chr&gt; |\n|---|---|---|---|---|---|---|---|---|---|---|---|---|---|---|---|---|---|---|---|---|---|\n| X | Min.   :708082083   | Length:10127       | Min.   :26.00   | Length:10127       | Min.   :0.000   | Length:10127       | Length:10127       | Length:10127       | Length:10127       | Min.   :13.00   | ⋯ | Min.   : 1438   | Min.   :   0   | Min.   :    3   | Min.   :0.0000   | Min.   :  510   | Min.   : 10.00   | Min.   :0.0000   | Min.   :0.0000   | Min.   :0.0000077   | Min.   :0.00042   |\n| X.1 | 1st Qu.:713036770   | Class :character   | 1st Qu.:41.00   | Class :character   | 1st Qu.:1.000   | Class :character   | Class :character   | Class :character   | Class :character   | 1st Qu.:31.00   | ⋯ | 1st Qu.: 2555   | 1st Qu.: 359   | 1st Qu.: 1324   | 1st Qu.:0.6310   | 1st Qu.: 2156   | 1st Qu.: 45.00   | 1st Qu.:0.5820   | 1st Qu.:0.0230   | 1st Qu.:0.0000990   | 1st Qu.:0.99966   |\n| X.2 | Median :717926358   | Mode  :character   | Median :46.00   | Mode  :character   | Median :2.000   | Mode  :character   | Mode  :character   | Mode  :character   | Mode  :character   | Median :36.00   | ⋯ | Median : 4549   | Median :1276   | Median : 3474   | Median :0.7360   | Median : 3899   | Median : 67.00   | Median :0.7020   | Median :0.1760   | Median :0.0001815   | Median :0.99982   |\n| X.3 | Mean   :739177606   | NA                 | Mean   :46.33   | NA                 | Mean   :2.346   | NA                 | NA                 | NA                 | NA                 | Mean   :35.93   | ⋯ | Mean   : 8632   | Mean   :1163   | Mean   : 7469   | Mean   :0.7599   | Mean   : 4404   | Mean   : 64.86   | Mean   :0.7122   | Mean   :0.2749   | Mean   :0.1599975   | Mean   :0.84000   |\n| X.4 | 3rd Qu.:773143533   | NA                 | 3rd Qu.:52.00   | NA                 | 3rd Qu.:3.000   | NA                 | NA                 | NA                 | NA                 | 3rd Qu.:40.00   | ⋯ | 3rd Qu.:11068   | 3rd Qu.:1784   | 3rd Qu.: 9859   | 3rd Qu.:0.8590   | 3rd Qu.: 4741   | 3rd Qu.: 81.00   | 3rd Qu.:0.8180   | 3rd Qu.:0.5030   | 3rd Qu.:0.0003373   | 3rd Qu.:0.99990   |\n| X.5 | Max.   :828343083   | NA                 | Max.   :73.00   | NA                 | Max.   :5.000   | NA                 | NA                 | NA                 | NA                 | Max.   :56.00   | ⋯ | Max.   :34516   | Max.   :2517   | Max.   :34516   | Max.   :3.3970   | Max.   :18484   | Max.   :139.00   | Max.   :3.7140   | Max.   :0.9990   | Max.   :0.9995800   | Max.   :0.99999   |\n\n",
            "text/html": [
              "<table>\n",
              "<caption>A data.frame: 6 × 23</caption>\n",
              "<thead>\n",
              "\t<tr><th></th><th scope=col>X..CLIENTNUM</th><th scope=col>Attrition_Flag</th><th scope=col>X.Customer_Age</th><th scope=col>X...Gender</th><th scope=col>Dependent_count</th><th scope=col>Education_Level</th><th scope=col>Marital_Status</th><th scope=col>Income_Category</th><th scope=col>Card_Category</th><th scope=col>Months_on_book</th><th scope=col>⋯</th><th scope=col>X.Credit_Limit</th><th scope=col>Total_Revolving_Bal</th><th scope=col>Avg_Open_To_Buy</th><th scope=col>Total_Amt_Chng_Q4_Q1</th><th scope=col>Total_Trans_Amt</th><th scope=col>Total_Trans_Ct</th><th scope=col>Total_Ct_Chng_Q4_Q1</th><th scope=col>Avg_Utilization_Ratio</th><th scope=col>Naive_Bayes_Classifier_Attrition_Flag_Card_Category_Contacts_Count_12_mon_Dependent_count_Education_Level_Months_Inactive_12_mon_1</th><th scope=col>Naive_Bayes_Classifier_Attrition_Flag_Card_Category_Contacts_Count_12_mon_Dependent_count_Education_Level_Months_Inactive_12_mon_2</th></tr>\n",
              "\t<tr><th></th><th scope=col>&lt;chr&gt;</th><th scope=col>&lt;chr&gt;</th><th scope=col>&lt;chr&gt;</th><th scope=col>&lt;chr&gt;</th><th scope=col>&lt;chr&gt;</th><th scope=col>&lt;chr&gt;</th><th scope=col>&lt;chr&gt;</th><th scope=col>&lt;chr&gt;</th><th scope=col>&lt;chr&gt;</th><th scope=col>&lt;chr&gt;</th><th scope=col>⋯</th><th scope=col>&lt;chr&gt;</th><th scope=col>&lt;chr&gt;</th><th scope=col>&lt;chr&gt;</th><th scope=col>&lt;chr&gt;</th><th scope=col>&lt;chr&gt;</th><th scope=col>&lt;chr&gt;</th><th scope=col>&lt;chr&gt;</th><th scope=col>&lt;chr&gt;</th><th scope=col>&lt;chr&gt;</th><th scope=col>&lt;chr&gt;</th></tr>\n",
              "</thead>\n",
              "<tbody>\n",
              "\t<tr><th scope=row>X</th><td>Min.   :708082083  </td><td>Length:10127      </td><td>Min.   :26.00  </td><td>Length:10127      </td><td>Min.   :0.000  </td><td>Length:10127      </td><td>Length:10127      </td><td>Length:10127      </td><td>Length:10127      </td><td>Min.   :13.00  </td><td>⋯</td><td>Min.   : 1438  </td><td>Min.   :   0  </td><td>Min.   :    3  </td><td>Min.   :0.0000  </td><td>Min.   :  510  </td><td>Min.   : 10.00  </td><td>Min.   :0.0000  </td><td>Min.   :0.0000  </td><td>Min.   :0.0000077  </td><td>Min.   :0.00042  </td></tr>\n",
              "\t<tr><th scope=row>X.1</th><td>1st Qu.:713036770  </td><td>Class :character  </td><td>1st Qu.:41.00  </td><td>Class :character  </td><td>1st Qu.:1.000  </td><td>Class :character  </td><td>Class :character  </td><td>Class :character  </td><td>Class :character  </td><td>1st Qu.:31.00  </td><td>⋯</td><td>1st Qu.: 2555  </td><td>1st Qu.: 359  </td><td>1st Qu.: 1324  </td><td>1st Qu.:0.6310  </td><td>1st Qu.: 2156  </td><td>1st Qu.: 45.00  </td><td>1st Qu.:0.5820  </td><td>1st Qu.:0.0230  </td><td>1st Qu.:0.0000990  </td><td>1st Qu.:0.99966  </td></tr>\n",
              "\t<tr><th scope=row>X.2</th><td>Median :717926358  </td><td>Mode  :character  </td><td>Median :46.00  </td><td>Mode  :character  </td><td>Median :2.000  </td><td>Mode  :character  </td><td>Mode  :character  </td><td>Mode  :character  </td><td>Mode  :character  </td><td>Median :36.00  </td><td>⋯</td><td>Median : 4549  </td><td>Median :1276  </td><td>Median : 3474  </td><td>Median :0.7360  </td><td>Median : 3899  </td><td>Median : 67.00  </td><td>Median :0.7020  </td><td>Median :0.1760  </td><td>Median :0.0001815  </td><td>Median :0.99982  </td></tr>\n",
              "\t<tr><th scope=row>X.3</th><td>Mean   :739177606  </td><td>NA                </td><td>Mean   :46.33  </td><td>NA                </td><td>Mean   :2.346  </td><td>NA                </td><td>NA                </td><td>NA                </td><td>NA                </td><td>Mean   :35.93  </td><td>⋯</td><td>Mean   : 8632  </td><td>Mean   :1163  </td><td>Mean   : 7469  </td><td>Mean   :0.7599  </td><td>Mean   : 4404  </td><td>Mean   : 64.86  </td><td>Mean   :0.7122  </td><td>Mean   :0.2749  </td><td>Mean   :0.1599975  </td><td>Mean   :0.84000  </td></tr>\n",
              "\t<tr><th scope=row>X.4</th><td>3rd Qu.:773143533  </td><td>NA                </td><td>3rd Qu.:52.00  </td><td>NA                </td><td>3rd Qu.:3.000  </td><td>NA                </td><td>NA                </td><td>NA                </td><td>NA                </td><td>3rd Qu.:40.00  </td><td>⋯</td><td>3rd Qu.:11068  </td><td>3rd Qu.:1784  </td><td>3rd Qu.: 9859  </td><td>3rd Qu.:0.8590  </td><td>3rd Qu.: 4741  </td><td>3rd Qu.: 81.00  </td><td>3rd Qu.:0.8180  </td><td>3rd Qu.:0.5030  </td><td>3rd Qu.:0.0003373  </td><td>3rd Qu.:0.99990  </td></tr>\n",
              "\t<tr><th scope=row>X.5</th><td>Max.   :828343083  </td><td>NA                </td><td>Max.   :73.00  </td><td>NA                </td><td>Max.   :5.000  </td><td>NA                </td><td>NA                </td><td>NA                </td><td>NA                </td><td>Max.   :56.00  </td><td>⋯</td><td>Max.   :34516  </td><td>Max.   :2517  </td><td>Max.   :34516  </td><td>Max.   :3.3970  </td><td>Max.   :18484  </td><td>Max.   :139.00  </td><td>Max.   :3.7140  </td><td>Max.   :0.9990  </td><td>Max.   :0.9995800  </td><td>Max.   :0.99999  </td></tr>\n",
              "</tbody>\n",
              "</table>\n"
            ]
          },
          "metadata": {
            "tags": []
          }
        }
      ]
    },
    {
      "cell_type": "markdown",
      "metadata": {
        "id": "tMsQXpc8SXOG"
      },
      "source": [
        ""
      ]
    }
  ]
}